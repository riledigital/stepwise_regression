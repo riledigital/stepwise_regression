{
 "cells": [
  {
   "cell_type": "markdown",
   "metadata": {
    "toc-hr-collapsed": true,
    "toc-nb-collapsed": true
   },
   "source": [
    "Rough implementations of various stepwise regression techniques"
   ]
  },
  {
   "cell_type": "markdown",
   "metadata": {
    "colab_type": "text",
    "id": "7zNjOWjSS6I9"
   },
   "source": [
    "# Package setup"
   ]
  },
  {
   "cell_type": "markdown",
   "metadata": {
    "colab_type": "text",
    "id": "KG8TEuo_WuVZ"
   },
   "source": [
    "## Import libraries"
   ]
  },
  {
   "cell_type": "code",
   "execution_count": 1,
   "metadata": {
    "cellView": "form",
    "colab": {
     "base_uri": "https://localhost:8080/",
     "height": 181
    },
    "colab_type": "code",
    "id": "M6POHdWpT_K4",
    "outputId": "ef9929d3-6ab1-4fc1-efd9-f207715d4e83"
   },
   "outputs": [
    {
     "name": "stdout",
     "output_type": "stream",
     "text": [
      "PATH SETUP: \n",
      "---\n",
      "cwd is /Volumes/SanDisk_APFS_EXT/DSMUS_PS3/scripts/..\n",
      "\n",
      "Refer to these paths for IO operations:\n",
      "HOME: /Users/riledigital\n",
      "DATA_IN: /Volumes/SanDisk_APFS_EXT/DSMUS_PS3/scripts/../data_in\n",
      "DATA_OUT: /Volumes/SanDisk_APFS_EXT/DSMUS_PS3/scripts/../data_out\n",
      "VIZ_OUT: /Volumes/SanDisk_APFS_EXT/DSMUS_PS3/scripts/../viz\n",
      "\n"
     ]
    }
   ],
   "source": [
    "#@title\n",
    "# PATH MANAGEMENT\n",
    "# OS-independent setup\n",
    "import os\n",
    "from pathlib import Path\n",
    "# https://docs.python.org/3/library/pathlib.html\n",
    "CWD = Path.cwd() / '..'\n",
    "HOME = Path.home()\n",
    "\n",
    "USE_COLAB = False\n",
    "\n",
    "if USE_COLAB:\n",
    "    CWD = Path(CWD / 'drive' / 'Colab Notebooks')\n",
    "    print(f\"We're running on Colab... alternative CWD: {CWD}\")\n",
    "\n",
    "DATA_IN = CWD / 'data_in'\n",
    "DATA_OUT = CWD / 'data_out'\n",
    "VIZ_OUT = CWD / \"viz\"\n",
    "\n",
    "# os.chdir(HOME / 'LocalDev' / 'data-analysis-template')\n",
    "\n",
    "print(f\"\"\"PATH SETUP: \n",
    "---\n",
    "cwd is {CWD}\n",
    "\n",
    "Refer to these paths for IO operations:\n",
    "HOME: {HOME}\n",
    "DATA_IN: {DATA_IN}\n",
    "DATA_OUT: {DATA_OUT}\n",
    "VIZ_OUT: {VIZ_OUT}\n",
    "\"\"\")"
   ]
  },
  {
   "cell_type": "code",
   "execution_count": 2,
   "metadata": {
    "colab": {},
    "colab_type": "code",
    "id": "wDezlRhiZU5x"
   },
   "outputs": [],
   "source": [
    "# Importing analysis libraries\n",
    "import datetime\n",
    "import pandas as pd\n",
    "import numpy as np\n",
    "\n",
    "# Data Viz\n",
    "# good ol matplotlib\n",
    "import matplotlib.pyplot as plt\n",
    "# Easier mplt's\n",
    "import seaborn as sns\n",
    "# Vega-Lite for interactives!!!!\n",
    "import altair as alt\n",
    "from IPython.core.display import display, HTML\n",
    "import sklearn as sk\n",
    "from patsy import dmatrices, dmatrix, demo_data\n",
    "import statsmodels.api as sm"
   ]
  },
  {
   "cell_type": "markdown",
   "metadata": {
    "colab_type": "text",
    "id": "m-x-iQNqVJno"
   },
   "source": [
    "## Jupyter notebook options and viz options"
   ]
  },
  {
   "cell_type": "code",
   "execution_count": 3,
   "metadata": {
    "colab": {},
    "colab_type": "code",
    "id": "1dVzuP-zVwM-"
   },
   "outputs": [],
   "source": [
    "# Options for python notebook\n",
    "pd.options.display.max_rows = 1000\n",
    "from IPython.core.interactiveshell import InteractiveShell\n",
    "InteractiveShell.ast_node_interactivity = \"all\"\n",
    "\n",
    "# Theming for plots + high DPI figures\n",
    "%config InlineBackend.figure_format = 'retina'\n",
    "from io import StringIO"
   ]
  },
  {
   "cell_type": "code",
   "execution_count": 4,
   "metadata": {},
   "outputs": [],
   "source": [
    "# Helper function to clean column names :-)\n",
    "# https://medium.com/@chaimgluck1/working-with-pandas-fixing-messy-column-names-42a54a6659cd\n",
    "def clean_column_names(df):\n",
    "    df.columns = df.columns.str.strip().str.lower().str.replace(' ', '_').str.replace('(', '').str.replace(')', '')\n",
    "    return df"
   ]
  },
  {
   "cell_type": "markdown",
   "metadata": {},
   "source": [
    "## Load Boston Housing Dataset"
   ]
  },
  {
   "cell_type": "code",
   "execution_count": 5,
   "metadata": {},
   "outputs": [
    {
     "data": {
      "text/html": [
       "<div>\n",
       "<style scoped>\n",
       "    .dataframe tbody tr th:only-of-type {\n",
       "        vertical-align: middle;\n",
       "    }\n",
       "\n",
       "    .dataframe tbody tr th {\n",
       "        vertical-align: top;\n",
       "    }\n",
       "\n",
       "    .dataframe thead th {\n",
       "        text-align: right;\n",
       "    }\n",
       "</style>\n",
       "<table border=\"1\" class=\"dataframe\">\n",
       "  <thead>\n",
       "    <tr style=\"text-align: right;\">\n",
       "      <th></th>\n",
       "      <th>CRIM</th>\n",
       "      <th>ZN</th>\n",
       "      <th>INDUS</th>\n",
       "      <th>CHAS</th>\n",
       "      <th>NOX</th>\n",
       "      <th>RM</th>\n",
       "      <th>AGE</th>\n",
       "      <th>DIS</th>\n",
       "      <th>RAD</th>\n",
       "      <th>TAX</th>\n",
       "      <th>PTRATIO</th>\n",
       "      <th>B</th>\n",
       "      <th>LSTAT</th>\n",
       "      <th>y</th>\n",
       "    </tr>\n",
       "  </thead>\n",
       "  <tbody>\n",
       "    <tr>\n",
       "      <th>0</th>\n",
       "      <td>0.00632</td>\n",
       "      <td>18.0</td>\n",
       "      <td>2.31</td>\n",
       "      <td>0.0</td>\n",
       "      <td>0.538</td>\n",
       "      <td>6.575</td>\n",
       "      <td>65.2</td>\n",
       "      <td>4.0900</td>\n",
       "      <td>1.0</td>\n",
       "      <td>296.0</td>\n",
       "      <td>15.3</td>\n",
       "      <td>396.90</td>\n",
       "      <td>4.98</td>\n",
       "      <td>24.0</td>\n",
       "    </tr>\n",
       "    <tr>\n",
       "      <th>1</th>\n",
       "      <td>0.02731</td>\n",
       "      <td>0.0</td>\n",
       "      <td>7.07</td>\n",
       "      <td>0.0</td>\n",
       "      <td>0.469</td>\n",
       "      <td>6.421</td>\n",
       "      <td>78.9</td>\n",
       "      <td>4.9671</td>\n",
       "      <td>2.0</td>\n",
       "      <td>242.0</td>\n",
       "      <td>17.8</td>\n",
       "      <td>396.90</td>\n",
       "      <td>9.14</td>\n",
       "      <td>21.6</td>\n",
       "    </tr>\n",
       "    <tr>\n",
       "      <th>2</th>\n",
       "      <td>0.02729</td>\n",
       "      <td>0.0</td>\n",
       "      <td>7.07</td>\n",
       "      <td>0.0</td>\n",
       "      <td>0.469</td>\n",
       "      <td>7.185</td>\n",
       "      <td>61.1</td>\n",
       "      <td>4.9671</td>\n",
       "      <td>2.0</td>\n",
       "      <td>242.0</td>\n",
       "      <td>17.8</td>\n",
       "      <td>392.83</td>\n",
       "      <td>4.03</td>\n",
       "      <td>34.7</td>\n",
       "    </tr>\n",
       "    <tr>\n",
       "      <th>3</th>\n",
       "      <td>0.03237</td>\n",
       "      <td>0.0</td>\n",
       "      <td>2.18</td>\n",
       "      <td>0.0</td>\n",
       "      <td>0.458</td>\n",
       "      <td>6.998</td>\n",
       "      <td>45.8</td>\n",
       "      <td>6.0622</td>\n",
       "      <td>3.0</td>\n",
       "      <td>222.0</td>\n",
       "      <td>18.7</td>\n",
       "      <td>394.63</td>\n",
       "      <td>2.94</td>\n",
       "      <td>33.4</td>\n",
       "    </tr>\n",
       "    <tr>\n",
       "      <th>4</th>\n",
       "      <td>0.06905</td>\n",
       "      <td>0.0</td>\n",
       "      <td>2.18</td>\n",
       "      <td>0.0</td>\n",
       "      <td>0.458</td>\n",
       "      <td>7.147</td>\n",
       "      <td>54.2</td>\n",
       "      <td>6.0622</td>\n",
       "      <td>3.0</td>\n",
       "      <td>222.0</td>\n",
       "      <td>18.7</td>\n",
       "      <td>396.90</td>\n",
       "      <td>5.33</td>\n",
       "      <td>36.2</td>\n",
       "    </tr>\n",
       "  </tbody>\n",
       "</table>\n",
       "</div>"
      ],
      "text/plain": [
       "      CRIM    ZN  INDUS  CHAS    NOX     RM   AGE     DIS  RAD    TAX  \\\n",
       "0  0.00632  18.0   2.31   0.0  0.538  6.575  65.2  4.0900  1.0  296.0   \n",
       "1  0.02731   0.0   7.07   0.0  0.469  6.421  78.9  4.9671  2.0  242.0   \n",
       "2  0.02729   0.0   7.07   0.0  0.469  7.185  61.1  4.9671  2.0  242.0   \n",
       "3  0.03237   0.0   2.18   0.0  0.458  6.998  45.8  6.0622  3.0  222.0   \n",
       "4  0.06905   0.0   2.18   0.0  0.458  7.147  54.2  6.0622  3.0  222.0   \n",
       "\n",
       "   PTRATIO       B  LSTAT     y  \n",
       "0     15.3  396.90   4.98  24.0  \n",
       "1     17.8  396.90   9.14  21.6  \n",
       "2     17.8  392.83   4.03  34.7  \n",
       "3     18.7  394.63   2.94  33.4  \n",
       "4     18.7  396.90   5.33  36.2  "
      ]
     },
     "execution_count": 5,
     "metadata": {},
     "output_type": "execute_result"
    }
   ],
   "source": [
    "from sklearn.datasets import load_boston\n",
    "\n",
    "boston = load_boston()\n",
    "df_boston = pd.DataFrame(\n",
    "    boston.data,\n",
    "    columns=boston.feature_names\n",
    ")\n",
    "df_boston['y'] = boston.target\n",
    "df_boston.head()"
   ]
  },
  {
   "cell_type": "markdown",
   "metadata": {},
   "source": [
    "# Helper functions for automated stepwise regressions\n",
    "\n",
    "## `quick_fit` outputs a dict ready to be turned into a DataFrame for summaries."
   ]
  },
  {
   "cell_type": "code",
   "execution_count": 6,
   "metadata": {
    "colab_type": "text",
    "id": "FcfNyQDIJLRf"
   },
   "outputs": [],
   "source": [
    "from statsmodels.stats.outliers_influence import OLSInfluence\n",
    "\n",
    "def quick_fit(y, X):\n",
    "    \"\"\" \n",
    "    helper func to fit regressions. returns dictionary with relevant stats \n",
    "    Ri Le 2020. Please do not share— working on a package.\n",
    "    \"\"\"\n",
    "    X = sm.add_constant(X)\n",
    "    ols = sm.OLS(y, X)\n",
    "    results = ols.fit()\n",
    "    residuals = results.resid\n",
    "    n = results.nobs     \n",
    "    p = len(results.params)\n",
    "    combo = X.columns.values.tolist()\n",
    "    rss = results.ssr\n",
    "    rss_textbook = (residuals ** 2).sum()\n",
    "    msres = results.ssr / (n - p)\n",
    "    hat_sigma_squared = msres\n",
    "    c_p = (rss / hat_sigma_squared) - (n + (2 * p))\n",
    "    reg_row = {\n",
    "        # recall that k is count of regressors\n",
    "        'k_count': p - 1,\n",
    "        'p_count': p,\n",
    "        'formula': tuple(combo),\n",
    "        'ss_res': results.ssr,\n",
    "        'R2': results.rsquared,\n",
    "        'R2_adj': results.rsquared_adj,\n",
    "        'MS_res': msres,\n",
    "        'C_p': c_p,\n",
    "        'PRESS': OLSInfluence(results).ess_press,\n",
    "        'AIC': results.aic\n",
    "    }\n",
    "    reg_row['model_results'] = results\n",
    "    reg_row['pt_onevar'] = results.pvalues[0]\n",
    "    return(reg_row)\n"
   ]
  },
  {
   "cell_type": "markdown",
   "metadata": {},
   "source": [
    "### Interactive Stepwise Regression Viewer\n",
    "Mouseover to view info about the regression.\n",
    "## `view_stepwise` renders an interactive Altair plot to explore the regression steps."
   ]
  },
  {
   "cell_type": "code",
   "execution_count": 7,
   "metadata": {},
   "outputs": [],
   "source": [
    "def view_stepwise(indf):\n",
    "    \"\"\"Wrapper to Altair which enables viewing of regression steps\n",
    "    \"\"\"\n",
    "    step_summary_df = indf.drop(['model_results', 'pt_onevar'], axis=1)\n",
    "    step_summary_df = step_summary_df.reset_index()\n",
    "    step_summary_df['p_count'] = step_summary_df['p_count'].astype('str')\n",
    "    cols_viz = step_summary_df.columns.values.tolist()\n",
    "\n",
    "    stepwise_viewer = alt.Chart(step_summary_df).mark_point(size=300).encode(\n",
    "        x='index',\n",
    "        y=alt.Y(alt.repeat(\"row\"), type='quantitative'),\n",
    "        color='p_count',\n",
    "        tooltip= cols_viz\n",
    "    ).properties(\n",
    "        title='Stepwise Regression Results Viewer',\n",
    "        height=150,\n",
    "    ).repeat(\n",
    "        row=cols_viz,\n",
    "        spacing=0\n",
    "    ).add_selection().interactive()\n",
    "    return(stepwise_viewer)"
   ]
  },
  {
   "cell_type": "markdown",
   "metadata": {},
   "source": [
    "## `exhaustive_regression` generates every possible regression and generates summary stats using `quick_fit`"
   ]
  },
  {
   "cell_type": "code",
   "execution_count": 8,
   "metadata": {},
   "outputs": [],
   "source": [
    "from itertools import combinations as combos\n",
    "\n",
    "def exhaustive_regression(df_in, p_stop=None, helper=True):\n",
    "    \"\"\"Automatic exhaustive regression. \n",
    "    p_stop: generate models up to p_stop\n",
    "    \"\"\"\n",
    "    y = df_in['y']\n",
    "    X = df_in.iloc[:,1:]\n",
    "#     type(y)\n",
    "#     type(X)\n",
    "#     print(f\"y shape is {y.shape}, X is {X.shape}... \\n X cols: {X}. \\n y: {y}\")\n",
    "    cols_full = df_in.columns.values.tolist()\n",
    "    one = combos(cols_full, 2)\n",
    "    cmap = dict()\n",
    "\n",
    "    # key is p\n",
    "    # value is a list of all the combinations for p\n",
    "    if p_stop is None:\n",
    "        p_stop = len(cols_full) + 1\n",
    "    for p in range(1, p_stop):\n",
    "        all_combos = combos(cols_full, p)\n",
    "    #     print(p)\n",
    "        cmap[p] = []\n",
    "        for combo in all_combos:\n",
    "            # cast to a list\n",
    "            combo = combo\n",
    "            cmap[p].append(combo)\n",
    "    model_results = {\n",
    "    }\n",
    "\n",
    "    mstats = {}\n",
    "    allmods = {}\n",
    "\n",
    "    ## STORE RESULTS in a list of dict\n",
    "    dictlist = []\n",
    "    \n",
    "    def calculate_mallows_cp(results, MS_res_full):\n",
    "        \"\"\" Helper function for mallow's c_p \"\"\"\n",
    "        n = results.nobs\n",
    "        p = len(results.params)\n",
    "        ss_res = results.ssr\n",
    "        hat_sigma_squared = MS_res_full\n",
    "        c_p = (ss_res / hat_sigma_squared) - n + 2 * p\n",
    "        return(c_p)\n",
    "\n",
    "    # print(mstat)\n",
    "    # Loop thru all params\n",
    "    for pval in cmap.keys():\n",
    "        # Loop thru all formulae\n",
    "        for combo in cmap[pval]:\n",
    "            X = df_in[list(combo)]\n",
    "            reg_row = quick_fit(y, X)\n",
    "            dictlist.append(reg_row)\n",
    "\n",
    "    exhaust_table = pd.DataFrame(\n",
    "        dictlist\n",
    "    ).reset_index()\n",
    "#     display(results['formula'].str.contains('y'))\n",
    "    # Drop ridiculous results that have \"y\" in them...\n",
    "    exhaust_table = exhaust_table[~exhaust_table['formula'].apply(lambda x: 'y' in x)]\n",
    "    ## Calculate mallow's cp again for all of them\n",
    "    ## Calculate the real Mallow's C_p once we have MS_Res for full model.\n",
    "    max_row = exhaust_table.loc[exhaust_table['p_count'].idxmax()]\n",
    "    MS_res_full = max_row['MS_res']\n",
    "    exhaust_table['C_p'] = exhaust_table['model_results'].apply(lambda x: calculate_mallows_cp(x, MS_res_full))\n",
    "    if not helper:\n",
    "        return(exhaust_table.drop(['model_results', 'pt_onevar'], axis=1))\n",
    "    return(exhaust_table)\n",
    "\n"
   ]
  },
  {
   "cell_type": "markdown",
   "metadata": {
    "colab_type": "text",
    "id": "ZEFgIMMwW4mX"
   },
   "source": [
    "## `forward_selection` implements forward selection similar to ISL 4e"
   ]
  },
  {
   "cell_type": "code",
   "execution_count": 9,
   "metadata": {},
   "outputs": [
    {
     "name": "stdout",
     "output_type": "stream",
     "text": [
      "{'CRIM', 'NOX', 'RAD', 'CHAS', 'DIS', 'ZN', 'AGE', 'TAX', 'RM', 'PTRATIO', 'LSTAT', 'INDUS', 'B'}\n"
     ]
    },
    {
     "data": {
      "text/plain": [
       "\"['LSTAT'] with R2_adj=0.54\""
      ]
     },
     "metadata": {},
     "output_type": "display_data"
    },
    {
     "name": "stdout",
     "output_type": "stream",
     "text": [
      "accumulated: {'LSTAT'}\n",
      "remaining: {'CRIM', 'NOX', 'RM', 'CHAS', 'DIS', 'ZN', 'AGE', 'TAX', 'RAD', 'PTRATIO', 'INDUS', 'B'}\n"
     ]
    },
    {
     "data": {
      "text/plain": [
       "\"['RM', 'LSTAT'] with R2_adj=0.64\""
      ]
     },
     "metadata": {},
     "output_type": "display_data"
    },
    {
     "name": "stdout",
     "output_type": "stream",
     "text": [
      "accumulated: {'RM', 'LSTAT'}\n",
      "remaining: {'CRIM', 'NOX', 'CHAS', 'DIS', 'ZN', 'AGE', 'TAX', 'RAD', 'PTRATIO', 'INDUS', 'B'}\n"
     ]
    },
    {
     "data": {
      "text/plain": [
       "\"['RM', 'PTRATIO', 'LSTAT'] with R2_adj=0.68\""
      ]
     },
     "metadata": {},
     "output_type": "display_data"
    },
    {
     "name": "stdout",
     "output_type": "stream",
     "text": [
      "accumulated: {'RM', 'PTRATIO', 'LSTAT'}\n",
      "remaining: {'CRIM', 'NOX', 'CHAS', 'DIS', 'ZN', 'AGE', 'TAX', 'RAD', 'INDUS', 'B'}\n"
     ]
    },
    {
     "data": {
      "text/plain": [
       "\"['RM', 'PTRATIO', 'LSTAT', 'DIS'] with R2_adj=0.69\""
      ]
     },
     "metadata": {},
     "output_type": "display_data"
    },
    {
     "name": "stdout",
     "output_type": "stream",
     "text": [
      "accumulated: {'RM', 'PTRATIO', 'LSTAT', 'DIS'}\n",
      "remaining: {'CRIM', 'NOX', 'CHAS', 'ZN', 'AGE', 'TAX', 'RAD', 'INDUS', 'B'}\n"
     ]
    },
    {
     "data": {
      "text/plain": [
       "\"['NOX', 'DIS', 'RM', 'PTRATIO', 'LSTAT'] with R2_adj=0.71\""
      ]
     },
     "metadata": {},
     "output_type": "display_data"
    },
    {
     "name": "stdout",
     "output_type": "stream",
     "text": [
      "accumulated: {'NOX', 'DIS', 'RM', 'PTRATIO', 'LSTAT'}\n",
      "remaining: {'CRIM', 'CHAS', 'ZN', 'AGE', 'TAX', 'RAD', 'INDUS', 'B'}\n"
     ]
    },
    {
     "data": {
      "text/plain": [
       "\"['NOX', 'PTRATIO', 'RM', 'CHAS', 'DIS', 'LSTAT'] with R2_adj=0.71\""
      ]
     },
     "metadata": {},
     "output_type": "display_data"
    },
    {
     "name": "stdout",
     "output_type": "stream",
     "text": [
      "accumulated: {'NOX', 'CHAS', 'DIS', 'RM', 'PTRATIO', 'LSTAT'}\n",
      "remaining: {'CRIM', 'ZN', 'AGE', 'TAX', 'RAD', 'INDUS', 'B'}\n"
     ]
    },
    {
     "data": {
      "text/plain": [
       "\"['NOX', 'PTRATIO', 'RM', 'CHAS', 'DIS', 'LSTAT', 'B'] with R2_adj=0.72\""
      ]
     },
     "metadata": {},
     "output_type": "display_data"
    },
    {
     "name": "stdout",
     "output_type": "stream",
     "text": [
      "accumulated: {'NOX', 'CHAS', 'DIS', 'RM', 'PTRATIO', 'LSTAT', 'B'}\n",
      "remaining: {'CRIM', 'ZN', 'AGE', 'TAX', 'RAD', 'INDUS'}\n"
     ]
    },
    {
     "data": {
      "text/plain": [
       "\"['ZN', 'NOX', 'PTRATIO', 'RM', 'CHAS', 'DIS', 'LSTAT', 'B'] with R2_adj=0.72\""
      ]
     },
     "metadata": {},
     "output_type": "display_data"
    },
    {
     "name": "stdout",
     "output_type": "stream",
     "text": [
      "accumulated: {'NOX', 'CHAS', 'DIS', 'ZN', 'RM', 'PTRATIO', 'LSTAT', 'B'}\n",
      "remaining: {'CRIM', 'AGE', 'TAX', 'RAD', 'INDUS'}\n"
     ]
    },
    {
     "data": {
      "text/plain": [
       "\"['CRIM', 'NOX', 'CHAS', 'DIS', 'ZN', 'RM', 'PTRATIO', 'LSTAT', 'B'] with R2_adj=0.72\""
      ]
     },
     "metadata": {},
     "output_type": "display_data"
    },
    {
     "name": "stdout",
     "output_type": "stream",
     "text": [
      "accumulated: {'CRIM', 'NOX', 'CHAS', 'DIS', 'ZN', 'RM', 'PTRATIO', 'LSTAT', 'B'}\n",
      "remaining: {'AGE', 'TAX', 'RAD', 'INDUS'}\n"
     ]
    },
    {
     "data": {
      "text/plain": [
       "\"['CRIM', 'NOX', 'RAD', 'CHAS', 'DIS', 'ZN', 'RM', 'PTRATIO', 'LSTAT', 'B'] with R2_adj=0.73\""
      ]
     },
     "metadata": {},
     "output_type": "display_data"
    },
    {
     "name": "stdout",
     "output_type": "stream",
     "text": [
      "accumulated: {'CRIM', 'NOX', 'RAD', 'CHAS', 'DIS', 'ZN', 'RM', 'PTRATIO', 'LSTAT', 'B'}\n",
      "remaining: {'AGE', 'TAX', 'INDUS'}\n"
     ]
    },
    {
     "data": {
      "text/plain": [
       "\"['CRIM', 'NOX', 'RAD', 'CHAS', 'DIS', 'ZN', 'TAX', 'RM', 'PTRATIO', 'LSTAT', 'B'] with R2_adj=0.73\""
      ]
     },
     "metadata": {},
     "output_type": "display_data"
    },
    {
     "name": "stdout",
     "output_type": "stream",
     "text": [
      "accumulated: {'CRIM', 'NOX', 'RAD', 'CHAS', 'DIS', 'ZN', 'TAX', 'RM', 'PTRATIO', 'LSTAT', 'B'}\n",
      "remaining: {'AGE', 'INDUS'}\n"
     ]
    },
    {
     "data": {
      "text/plain": [
       "\"['CRIM', 'NOX', 'RAD', 'CHAS', 'DIS', 'ZN', 'TAX', 'RM', 'PTRATIO', 'LSTAT', 'INDUS', 'B'] with R2_adj=0.73\""
      ]
     },
     "metadata": {},
     "output_type": "display_data"
    },
    {
     "name": "stdout",
     "output_type": "stream",
     "text": [
      "Ended on best formula:\n",
      "['CRIM', 'NOX', 'RAD', 'CHAS', 'DIS', 'ZN', 'TAX', 'RM', 'PTRATIO', 'LSTAT', 'INDUS', 'B'] \n",
      "with R2_Adj=0.7343282238499185\n"
     ]
    },
    {
     "data": {
      "text/plain": [
       "{'k_count': 12,\n",
       " 'p_count': 13,\n",
       " 'formula': ('const',\n",
       "  'CRIM',\n",
       "  'NOX',\n",
       "  'RAD',\n",
       "  'CHAS',\n",
       "  'DIS',\n",
       "  'ZN',\n",
       "  'TAX',\n",
       "  'RM',\n",
       "  'PTRATIO',\n",
       "  'LSTAT',\n",
       "  'INDUS',\n",
       "  'B'),\n",
       " 'ss_res': 11078.846412308365,\n",
       " 'R2': 0.7406412165505145,\n",
       " 'R2_adj': 0.7343282238499185,\n",
       " 'MS_res': 22.472305095960174,\n",
       " 'C_p': -39.0,\n",
       " 'PRESS': 11927.413936096598,\n",
       " 'AIC': 3023.6114182206766,\n",
       " 'model_results': <statsmodels.regression.linear_model.RegressionResultsWrapper at 0x122ef8b90>,\n",
       " 'pt_onevar': 2.7154637954229124e-12}"
      ]
     },
     "metadata": {},
     "output_type": "display_data"
    },
    {
     "data": {
      "text/html": [
       "<div>\n",
       "<style scoped>\n",
       "    .dataframe tbody tr th:only-of-type {\n",
       "        vertical-align: middle;\n",
       "    }\n",
       "\n",
       "    .dataframe tbody tr th {\n",
       "        vertical-align: top;\n",
       "    }\n",
       "\n",
       "    .dataframe thead th {\n",
       "        text-align: right;\n",
       "    }\n",
       "</style>\n",
       "<table border=\"1\" class=\"dataframe\">\n",
       "  <thead>\n",
       "    <tr style=\"text-align: right;\">\n",
       "      <th></th>\n",
       "      <th>k_count</th>\n",
       "      <th>p_count</th>\n",
       "      <th>formula</th>\n",
       "      <th>ss_res</th>\n",
       "      <th>R2</th>\n",
       "      <th>R2_adj</th>\n",
       "      <th>MS_res</th>\n",
       "      <th>C_p</th>\n",
       "      <th>PRESS</th>\n",
       "      <th>AIC</th>\n",
       "      <th>model_results</th>\n",
       "      <th>pt_onevar</th>\n",
       "    </tr>\n",
       "  </thead>\n",
       "  <tbody>\n",
       "    <tr>\n",
       "      <th>0</th>\n",
       "      <td>1</td>\n",
       "      <td>2</td>\n",
       "      <td>(const, LSTAT)</td>\n",
       "      <td>19472.381418</td>\n",
       "      <td>0.544146</td>\n",
       "      <td>0.543242</td>\n",
       "      <td>38.635677</td>\n",
       "      <td>-6.0</td>\n",
       "      <td>19678.389502</td>\n",
       "      <td>3286.974957</td>\n",
       "      <td>&lt;statsmodels.regression.linear_model.Regressio...</td>\n",
       "      <td>3.743081e-236</td>\n",
       "    </tr>\n",
       "    <tr>\n",
       "      <th>1</th>\n",
       "      <td>2</td>\n",
       "      <td>3</td>\n",
       "      <td>(const, RM, LSTAT)</td>\n",
       "      <td>15439.309201</td>\n",
       "      <td>0.638562</td>\n",
       "      <td>0.637124</td>\n",
       "      <td>30.694452</td>\n",
       "      <td>-9.0</td>\n",
       "      <td>15814.872540</td>\n",
       "      <td>3171.542314</td>\n",
       "      <td>&lt;statsmodels.regression.linear_model.Regressio...</td>\n",
       "      <td>6.687649e-01</td>\n",
       "    </tr>\n",
       "    <tr>\n",
       "      <th>2</th>\n",
       "      <td>3</td>\n",
       "      <td>4</td>\n",
       "      <td>(const, RM, PTRATIO, LSTAT)</td>\n",
       "      <td>13727.985314</td>\n",
       "      <td>0.678624</td>\n",
       "      <td>0.676704</td>\n",
       "      <td>27.346584</td>\n",
       "      <td>-12.0</td>\n",
       "      <td>14117.504004</td>\n",
       "      <td>3114.097267</td>\n",
       "      <td>&lt;statsmodels.regression.linear_model.Regressio...</td>\n",
       "      <td>2.725808e-06</td>\n",
       "    </tr>\n",
       "    <tr>\n",
       "      <th>3</th>\n",
       "      <td>4</td>\n",
       "      <td>5</td>\n",
       "      <td>(const, RM, PTRATIO, LSTAT, DIS)</td>\n",
       "      <td>13228.907703</td>\n",
       "      <td>0.690308</td>\n",
       "      <td>0.687835</td>\n",
       "      <td>26.405005</td>\n",
       "      <td>-15.0</td>\n",
       "      <td>13696.092387</td>\n",
       "      <td>3097.359045</td>\n",
       "      <td>&lt;statsmodels.regression.linear_model.Regressio...</td>\n",
       "      <td>3.768552e-09</td>\n",
       "    </tr>\n",
       "    <tr>\n",
       "      <th>4</th>\n",
       "      <td>5</td>\n",
       "      <td>6</td>\n",
       "      <td>(const, NOX, DIS, RM, PTRATIO, LSTAT)</td>\n",
       "      <td>12469.344151</td>\n",
       "      <td>0.708089</td>\n",
       "      <td>0.705170</td>\n",
       "      <td>24.938688</td>\n",
       "      <td>-18.0</td>\n",
       "      <td>12973.603871</td>\n",
       "      <td>3069.438633</td>\n",
       "      <td>&lt;statsmodels.regression.linear_model.Regressio...</td>\n",
       "      <td>3.426786e-15</td>\n",
       "    </tr>\n",
       "    <tr>\n",
       "      <th>5</th>\n",
       "      <td>6</td>\n",
       "      <td>7</td>\n",
       "      <td>(const, NOX, PTRATIO, RM, CHAS, DIS, LSTAT)</td>\n",
       "      <td>12141.072736</td>\n",
       "      <td>0.715774</td>\n",
       "      <td>0.712357</td>\n",
       "      <td>24.330807</td>\n",
       "      <td>-21.0</td>\n",
       "      <td>12762.559644</td>\n",
       "      <td>3057.939050</td>\n",
       "      <td>&lt;statsmodels.regression.linear_model.Regressio...</td>\n",
       "      <td>4.291836e-15</td>\n",
       "    </tr>\n",
       "    <tr>\n",
       "      <th>6</th>\n",
       "      <td>7</td>\n",
       "      <td>8</td>\n",
       "      <td>(const, NOX, PTRATIO, RM, CHAS, DIS, LSTAT, B)</td>\n",
       "      <td>11868.235607</td>\n",
       "      <td>0.722161</td>\n",
       "      <td>0.718256</td>\n",
       "      <td>23.831798</td>\n",
       "      <td>-24.0</td>\n",
       "      <td>12541.058642</td>\n",
       "      <td>3048.438383</td>\n",
       "      <td>&lt;statsmodels.regression.linear_model.Regressio...</td>\n",
       "      <td>1.187252e-09</td>\n",
       "    </tr>\n",
       "    <tr>\n",
       "      <th>7</th>\n",
       "      <td>8</td>\n",
       "      <td>9</td>\n",
       "      <td>(const, ZN, NOX, PTRATIO, RM, CHAS, DIS, LSTAT...</td>\n",
       "      <td>11678.299470</td>\n",
       "      <td>0.726608</td>\n",
       "      <td>0.722207</td>\n",
       "      <td>23.497584</td>\n",
       "      <td>-27.0</td>\n",
       "      <td>12389.456369</td>\n",
       "      <td>3042.274993</td>\n",
       "      <td>&lt;statsmodels.regression.linear_model.Regressio...</td>\n",
       "      <td>1.030083e-09</td>\n",
       "    </tr>\n",
       "    <tr>\n",
       "      <th>8</th>\n",
       "      <td>9</td>\n",
       "      <td>10</td>\n",
       "      <td>(const, CRIM, NOX, CHAS, DIS, ZN, RM, PTRATIO,...</td>\n",
       "      <td>11583.587544</td>\n",
       "      <td>0.728825</td>\n",
       "      <td>0.723905</td>\n",
       "      <td>23.354007</td>\n",
       "      <td>-30.0</td>\n",
       "      <td>12370.746205</td>\n",
       "      <td>3040.154562</td>\n",
       "      <td>&lt;statsmodels.regression.linear_model.Regressio...</td>\n",
       "      <td>2.759069e-09</td>\n",
       "    </tr>\n",
       "    <tr>\n",
       "      <th>9</th>\n",
       "      <td>10</td>\n",
       "      <td>11</td>\n",
       "      <td>(const, CRIM, NOX, RAD, CHAS, DIS, ZN, RM, PTR...</td>\n",
       "      <td>11354.983231</td>\n",
       "      <td>0.734177</td>\n",
       "      <td>0.728807</td>\n",
       "      <td>22.939360</td>\n",
       "      <td>-33.0</td>\n",
       "      <td>12156.073414</td>\n",
       "      <td>3032.068702</td>\n",
       "      <td>&lt;statsmodels.regression.linear_model.Regressio...</td>\n",
       "      <td>2.972306e-11</td>\n",
       "    </tr>\n",
       "    <tr>\n",
       "      <th>10</th>\n",
       "      <td>11</td>\n",
       "      <td>12</td>\n",
       "      <td>(const, CRIM, NOX, RAD, CHAS, DIS, ZN, TAX, RM...</td>\n",
       "      <td>11081.363952</td>\n",
       "      <td>0.740582</td>\n",
       "      <td>0.734806</td>\n",
       "      <td>22.431911</td>\n",
       "      <td>-36.0</td>\n",
       "      <td>11897.702884</td>\n",
       "      <td>3021.726388</td>\n",
       "      <td>&lt;statsmodels.regression.linear_model.Regressio...</td>\n",
       "      <td>2.727265e-12</td>\n",
       "    </tr>\n",
       "    <tr>\n",
       "      <th>11</th>\n",
       "      <td>12</td>\n",
       "      <td>13</td>\n",
       "      <td>(const, CRIM, NOX, RAD, CHAS, DIS, ZN, TAX, RM...</td>\n",
       "      <td>11078.846412</td>\n",
       "      <td>0.740641</td>\n",
       "      <td>0.734328</td>\n",
       "      <td>22.472305</td>\n",
       "      <td>-39.0</td>\n",
       "      <td>11927.413936</td>\n",
       "      <td>3023.611418</td>\n",
       "      <td>&lt;statsmodels.regression.linear_model.Regressio...</td>\n",
       "      <td>2.715464e-12</td>\n",
       "    </tr>\n",
       "  </tbody>\n",
       "</table>\n",
       "</div>"
      ],
      "text/plain": [
       "    k_count  p_count                                            formula  \\\n",
       "0         1        2                                     (const, LSTAT)   \n",
       "1         2        3                                 (const, RM, LSTAT)   \n",
       "2         3        4                        (const, RM, PTRATIO, LSTAT)   \n",
       "3         4        5                   (const, RM, PTRATIO, LSTAT, DIS)   \n",
       "4         5        6              (const, NOX, DIS, RM, PTRATIO, LSTAT)   \n",
       "5         6        7        (const, NOX, PTRATIO, RM, CHAS, DIS, LSTAT)   \n",
       "6         7        8     (const, NOX, PTRATIO, RM, CHAS, DIS, LSTAT, B)   \n",
       "7         8        9  (const, ZN, NOX, PTRATIO, RM, CHAS, DIS, LSTAT...   \n",
       "8         9       10  (const, CRIM, NOX, CHAS, DIS, ZN, RM, PTRATIO,...   \n",
       "9        10       11  (const, CRIM, NOX, RAD, CHAS, DIS, ZN, RM, PTR...   \n",
       "10       11       12  (const, CRIM, NOX, RAD, CHAS, DIS, ZN, TAX, RM...   \n",
       "11       12       13  (const, CRIM, NOX, RAD, CHAS, DIS, ZN, TAX, RM...   \n",
       "\n",
       "          ss_res        R2    R2_adj     MS_res   C_p         PRESS  \\\n",
       "0   19472.381418  0.544146  0.543242  38.635677  -6.0  19678.389502   \n",
       "1   15439.309201  0.638562  0.637124  30.694452  -9.0  15814.872540   \n",
       "2   13727.985314  0.678624  0.676704  27.346584 -12.0  14117.504004   \n",
       "3   13228.907703  0.690308  0.687835  26.405005 -15.0  13696.092387   \n",
       "4   12469.344151  0.708089  0.705170  24.938688 -18.0  12973.603871   \n",
       "5   12141.072736  0.715774  0.712357  24.330807 -21.0  12762.559644   \n",
       "6   11868.235607  0.722161  0.718256  23.831798 -24.0  12541.058642   \n",
       "7   11678.299470  0.726608  0.722207  23.497584 -27.0  12389.456369   \n",
       "8   11583.587544  0.728825  0.723905  23.354007 -30.0  12370.746205   \n",
       "9   11354.983231  0.734177  0.728807  22.939360 -33.0  12156.073414   \n",
       "10  11081.363952  0.740582  0.734806  22.431911 -36.0  11897.702884   \n",
       "11  11078.846412  0.740641  0.734328  22.472305 -39.0  11927.413936   \n",
       "\n",
       "            AIC                                      model_results  \\\n",
       "0   3286.974957  <statsmodels.regression.linear_model.Regressio...   \n",
       "1   3171.542314  <statsmodels.regression.linear_model.Regressio...   \n",
       "2   3114.097267  <statsmodels.regression.linear_model.Regressio...   \n",
       "3   3097.359045  <statsmodels.regression.linear_model.Regressio...   \n",
       "4   3069.438633  <statsmodels.regression.linear_model.Regressio...   \n",
       "5   3057.939050  <statsmodels.regression.linear_model.Regressio...   \n",
       "6   3048.438383  <statsmodels.regression.linear_model.Regressio...   \n",
       "7   3042.274993  <statsmodels.regression.linear_model.Regressio...   \n",
       "8   3040.154562  <statsmodels.regression.linear_model.Regressio...   \n",
       "9   3032.068702  <statsmodels.regression.linear_model.Regressio...   \n",
       "10  3021.726388  <statsmodels.regression.linear_model.Regressio...   \n",
       "11  3023.611418  <statsmodels.regression.linear_model.Regressio...   \n",
       "\n",
       "        pt_onevar  \n",
       "0   3.743081e-236  \n",
       "1    6.687649e-01  \n",
       "2    2.725808e-06  \n",
       "3    3.768552e-09  \n",
       "4    3.426786e-15  \n",
       "5    4.291836e-15  \n",
       "6    1.187252e-09  \n",
       "7    1.030083e-09  \n",
       "8    2.759069e-09  \n",
       "9    2.972306e-11  \n",
       "10   2.727265e-12  \n",
       "11   2.715464e-12  "
      ]
     },
     "execution_count": 9,
     "metadata": {},
     "output_type": "execute_result"
    }
   ],
   "source": [
    "def forward_selection(dfb1):\n",
    "    \"\"\" \n",
    "\n",
    "    This variation of forward selection looks for improvements of R2_adj rather than t-tests...\n",
    "    Implementation of Forward Selection as described in ISL \n",
    "    http://faculty.marshall.usc.edu/gareth-james/ISL/\n",
    "    \"\"\"\n",
    "    y = dfb1['y']\n",
    "    X = dfb1.drop('y', axis=1)\n",
    "    alpha_in = 0.10\n",
    "    all_cols = set(dfb1.columns.values.tolist().copy())\n",
    "    all_cols_list = list(all_cols)\n",
    "    all_cols.remove('y')\n",
    "    k = len(all_cols)\n",
    "    # Remove the y\n",
    "    print(all_cols)\n",
    "    m0 = []\n",
    "    candidate_regressors = all_cols.copy()\n",
    "    acc_regressors = set()\n",
    "    # First we get all models with m0_k + 1 regressors\n",
    "    ## Build up a list of good models to print at end\n",
    "    step_results = []\n",
    "    def get_best_model_from_subset(candidate_regressors2):\n",
    "        candmodels = []\n",
    "        for col in candidate_regressors2:\n",
    "                candidate_formula = acc_regressors.copy()\n",
    "                candidate_formula.add(col)\n",
    "                modresult = quick_fit(y, dfb1[candidate_formula])\n",
    "                candmodels.append(modresult)\n",
    "        candsummary = pd.DataFrame(candmodels)\n",
    "        # get index of top R2adj\n",
    "    #     display(candsummary)\n",
    "        maxidx = candsummary['R2_adj'].idxmax() \n",
    "        # Strongest formula for the round\n",
    "        formula_best = list(candsummary.iloc[maxidx]['formula'])\n",
    "        row_best = candsummary.iloc[maxidx]\n",
    "        best_r2adj = row_best.R2_adj\n",
    "        formula_best.remove('const')\n",
    "        display(f'{formula_best} with R2_adj={best_r2adj :.2f}')\n",
    "        step_results.append(quick_fit(y, X[formula_best]))\n",
    "        return([formula_best, best_r2adj])\n",
    "\n",
    "\n",
    "    def update_state(acc_regressors2, cand_regressors, formula_best):\n",
    "        # We add X8 to our forward model...\n",
    "        acc_regressors2.update(formula_best)\n",
    "        # and we remove some from the candidate_regressors\n",
    "        cand_regressors.difference_update(formula_best)\n",
    "        print(f'accumulated: {acc_regressors2}')\n",
    "        print(f'remaining: {cand_regressors}')\n",
    "        return([acc_regressors2, cand_regressors, formula_best])\n",
    "    \n",
    "    # implementation run that calls all helpers\n",
    "    best_r2 = 0.0\n",
    "    while len(candidate_regressors) > 0:\n",
    "        next_formula, output_r2 = get_best_model_from_subset(candidate_regressors)\n",
    "        if output_r2 > best_r2:\n",
    "            best_r2 = output_r2\n",
    "    #         display([next_formula, output_r2])\n",
    "            acc_regressors, candidate_regressors, finalbest = update_state(\n",
    "                acc_regressors, \n",
    "                candidate_regressors,\n",
    "                next_formula\n",
    "            )\n",
    "        else:\n",
    "            print(f'Ended on best formula:\\n{next_formula} \\nwith R2_Adj={output_r2}')\n",
    "            display(quick_fit(y, X[next_formula]))\n",
    "            break\n",
    "\n",
    "    finalbest\n",
    "    step_results_summary = pd.DataFrame(step_results)\n",
    "#     display(step_results_summary)\n",
    "    return(step_results_summary)\n",
    "\n",
    "#     t1, t2, t3 = update_state(acc_regressors, candidate_regressors, get_best_model_from_subset(candidate_regressors)[0] )\n",
    "forward_summary = forward_selection(df_boston)\n",
    "\n",
    "forward_summary"
   ]
  },
  {
   "cell_type": "code",
   "execution_count": 10,
   "metadata": {},
   "outputs": [
    {
     "data": {
      "text/html": [
       "\n",
       "<div id=\"altair-viz-42206f3c9f484c37b27c74c5141aedfd\"></div>\n",
       "<script type=\"text/javascript\">\n",
       "  (function(spec, embedOpt){\n",
       "    let outputDiv = document.currentScript.previousElementSibling;\n",
       "    if (outputDiv.id !== \"altair-viz-42206f3c9f484c37b27c74c5141aedfd\") {\n",
       "      outputDiv = document.getElementById(\"altair-viz-42206f3c9f484c37b27c74c5141aedfd\");\n",
       "    }\n",
       "    const paths = {\n",
       "      \"vega\": \"https://cdn.jsdelivr.net/npm//vega@5?noext\",\n",
       "      \"vega-lib\": \"https://cdn.jsdelivr.net/npm//vega-lib?noext\",\n",
       "      \"vega-lite\": \"https://cdn.jsdelivr.net/npm//vega-lite@4.8.1?noext\",\n",
       "      \"vega-embed\": \"https://cdn.jsdelivr.net/npm//vega-embed@6?noext\",\n",
       "    };\n",
       "\n",
       "    function loadScript(lib) {\n",
       "      return new Promise(function(resolve, reject) {\n",
       "        var s = document.createElement('script');\n",
       "        s.src = paths[lib];\n",
       "        s.async = true;\n",
       "        s.onload = () => resolve(paths[lib]);\n",
       "        s.onerror = () => reject(`Error loading script: ${paths[lib]}`);\n",
       "        document.getElementsByTagName(\"head\")[0].appendChild(s);\n",
       "      });\n",
       "    }\n",
       "\n",
       "    function showError(err) {\n",
       "      outputDiv.innerHTML = `<div class=\"error\" style=\"color:red;\">${err}</div>`;\n",
       "      throw err;\n",
       "    }\n",
       "\n",
       "    function displayChart(vegaEmbed) {\n",
       "      vegaEmbed(outputDiv, spec, embedOpt)\n",
       "        .catch(err => showError(`Javascript Error: ${err.message}<br>This usually means there's a typo in your chart specification. See the javascript console for the full traceback.`));\n",
       "    }\n",
       "\n",
       "    if(typeof define === \"function\" && define.amd) {\n",
       "      requirejs.config({paths});\n",
       "      require([\"vega-embed\"], displayChart, err => showError(`Error loading script: ${err.message}`));\n",
       "    } else if (typeof vegaEmbed === \"function\") {\n",
       "      displayChart(vegaEmbed);\n",
       "    } else {\n",
       "      loadScript(\"vega\")\n",
       "        .then(() => loadScript(\"vega-lite\"))\n",
       "        .then(() => loadScript(\"vega-embed\"))\n",
       "        .catch(showError)\n",
       "        .then(() => displayChart(vegaEmbed));\n",
       "    }\n",
       "  })({\"config\": {\"view\": {\"continuousWidth\": 400, \"continuousHeight\": 300}}, \"repeat\": {\"row\": [\"index\", \"k_count\", \"p_count\", \"formula\", \"ss_res\", \"R2\", \"R2_adj\", \"MS_res\", \"C_p\", \"PRESS\", \"AIC\"]}, \"spec\": {\"data\": {\"name\": \"data-066e9673a256f5d7bdb80ad8dc836051\"}, \"mark\": {\"type\": \"point\", \"size\": 300}, \"encoding\": {\"color\": {\"type\": \"nominal\", \"field\": \"p_count\"}, \"tooltip\": [{\"type\": \"quantitative\", \"field\": \"index\"}, {\"type\": \"quantitative\", \"field\": \"k_count\"}, {\"type\": \"nominal\", \"field\": \"p_count\"}, {\"type\": \"nominal\", \"field\": \"formula\"}, {\"type\": \"quantitative\", \"field\": \"ss_res\"}, {\"type\": \"quantitative\", \"field\": \"R2\"}, {\"type\": \"quantitative\", \"field\": \"R2_adj\"}, {\"type\": \"quantitative\", \"field\": \"MS_res\"}, {\"type\": \"quantitative\", \"field\": \"C_p\"}, {\"type\": \"quantitative\", \"field\": \"PRESS\"}, {\"type\": \"quantitative\", \"field\": \"AIC\"}], \"x\": {\"type\": \"quantitative\", \"field\": \"index\"}, \"y\": {\"type\": \"quantitative\", \"field\": {\"repeat\": \"row\"}}}, \"height\": 150, \"selection\": {\"selector001\": {\"type\": \"interval\", \"bind\": \"scales\", \"encodings\": [\"x\", \"y\"]}}, \"title\": \"Stepwise Regression Results Viewer\"}, \"spacing\": 0, \"$schema\": \"https://vega.github.io/schema/vega-lite/v4.8.1.json\", \"datasets\": {\"data-066e9673a256f5d7bdb80ad8dc836051\": [{\"index\": 0, \"k_count\": 1, \"p_count\": \"2\", \"formula\": [\"const\", \"LSTAT\"], \"ss_res\": 19472.381418326437, \"R2\": 0.5441462975864799, \"R2_adj\": 0.543241825954707, \"MS_res\": 38.63567741731436, \"C_p\": -6.000000000000057, \"PRESS\": 19678.389502421993, \"AIC\": 3286.974956900157}, {\"index\": 1, \"k_count\": 2, \"p_count\": \"3\", \"formula\": [\"const\", \"RM\", \"LSTAT\"], \"ss_res\": 15439.309201313532, \"R2\": 0.6385616062603403, \"R2_adj\": 0.637124475470123, \"MS_res\": 30.69445169247223, \"C_p\": -9.0, \"PRESS\": 15814.872539854192, \"AIC\": 3171.5423142992013}, {\"index\": 2, \"k_count\": 3, \"p_count\": \"4\", \"formula\": [\"const\", \"RM\", \"PTRATIO\", \"LSTAT\"], \"ss_res\": 13727.985313799509, \"R2\": 0.6786241601613112, \"R2_adj\": 0.6767035874132712, \"MS_res\": 27.346584290437267, \"C_p\": -12.0, \"PRESS\": 14117.50400390381, \"AIC\": 3114.0972674193326}, {\"index\": 3, \"k_count\": 4, \"p_count\": \"5\", \"formula\": [\"const\", \"RM\", \"PTRATIO\", \"LSTAT\", \"DIS\"], \"ss_res\": 13228.907702611843, \"R2\": 0.6903077016842538, \"R2_adj\": 0.6878351084841281, \"MS_res\": 26.405005394434816, \"C_p\": -15.0, \"PRESS\": 13696.092386596629, \"AIC\": 3097.359044862759}, {\"index\": 4, \"k_count\": 5, \"p_count\": \"6\", \"formula\": [\"const\", \"NOX\", \"DIS\", \"RM\", \"PTRATIO\", \"LSTAT\"], \"ss_res\": 12469.344150807054, \"R2\": 0.7080892893529662, \"R2_adj\": 0.7051701822464959, \"MS_res\": 24.938688301614107, \"C_p\": -18.0, \"PRESS\": 12973.603871319263, \"AIC\": 3069.438633167217}, {\"index\": 5, \"k_count\": 6, \"p_count\": \"7\", \"formula\": [\"const\", \"NOX\", \"PTRATIO\", \"RM\", \"CHAS\", \"DIS\", \"LSTAT\"], \"ss_res\": 12141.072735897753, \"R2\": 0.7157742117396082, \"R2_adj\": 0.712356667191387, \"MS_res\": 24.33080708596744, \"C_p\": -21.0, \"PRESS\": 12762.559643608214, \"AIC\": 3057.9390497191152}, {\"index\": 6, \"k_count\": 7, \"p_count\": \"8\", \"formula\": [\"const\", \"NOX\", \"PTRATIO\", \"RM\", \"CHAS\", \"DIS\", \"LSTAT\", \"B\"], \"ss_res\": 11868.23560732109, \"R2\": 0.7221614025277103, \"R2_adj\": 0.7182560407158509, \"MS_res\": 23.831798408275283, \"C_p\": -24.0, \"PRESS\": 12541.058641691516, \"AIC\": 3048.438382711162}, {\"index\": 7, \"k_count\": 8, \"p_count\": \"9\", \"formula\": [\"const\", \"ZN\", \"NOX\", \"PTRATIO\", \"RM\", \"CHAS\", \"DIS\", \"LSTAT\", \"B\"], \"ss_res\": 11678.299470223936, \"R2\": 0.726607858739603, \"R2_adj\": 0.7222071804094556, \"MS_res\": 23.497584447130656, \"C_p\": -27.0, \"PRESS\": 12389.456369281947, \"AIC\": 3042.274993098419}, {\"index\": 8, \"k_count\": 9, \"p_count\": \"10\", \"formula\": [\"const\", \"CRIM\", \"NOX\", \"CHAS\", \"DIS\", \"ZN\", \"RM\", \"PTRATIO\", \"LSTAT\", \"B\"], \"ss_res\": 11583.587544393547, \"R2\": 0.7288250904754123, \"R2_adj\": 0.7239045780042, \"MS_res\": 23.354007145954732, \"C_p\": -30.0, \"PRESS\": 12370.746205052017, \"AIC\": 3040.154562175143}, {\"index\": 9, \"k_count\": 10, \"p_count\": \"11\", \"formula\": [\"const\", \"CRIM\", \"NOX\", \"RAD\", \"CHAS\", \"DIS\", \"ZN\", \"RM\", \"PTRATIO\", \"LSTAT\", \"B\"], \"ss_res\": 11354.98323140588, \"R2\": 0.734176779117103, \"R2_adj\": 0.7288066130386607, \"MS_res\": 22.939360063446223, \"C_p\": -33.0, \"PRESS\": 12156.073413510241, \"AIC\": 3032.0687017003256}, {\"index\": 10, \"k_count\": 11, \"p_count\": \"12\", \"formula\": [\"const\", \"CRIM\", \"NOX\", \"RAD\", \"CHAS\", \"DIS\", \"ZN\", \"TAX\", \"RM\", \"PTRATIO\", \"LSTAT\", \"B\"], \"ss_res\": 11081.363952434613, \"R2\": 0.7405822802569575, \"R2_adj\": 0.7348057723274566, \"MS_res\": 22.43191083488788, \"C_p\": -36.0, \"PRESS\": 11897.702883857495, \"AIC\": 3021.726387825062}, {\"index\": 11, \"k_count\": 12, \"p_count\": \"13\", \"formula\": [\"const\", \"CRIM\", \"NOX\", \"RAD\", \"CHAS\", \"DIS\", \"ZN\", \"TAX\", \"RM\", \"PTRATIO\", \"LSTAT\", \"INDUS\", \"B\"], \"ss_res\": 11078.846412308365, \"R2\": 0.7406412165505145, \"R2_adj\": 0.7343282238499185, \"MS_res\": 22.472305095960174, \"C_p\": -39.0, \"PRESS\": 11927.413936096598, \"AIC\": 3023.6114182206766}]}}, {\"mode\": \"vega-lite\"});\n",
       "</script>"
      ],
      "text/plain": [
       "alt.RepeatChart(...)"
      ]
     },
     "execution_count": 10,
     "metadata": {},
     "output_type": "execute_result"
    }
   ],
   "source": [
    "view_stepwise(forward_summary)"
   ]
  },
  {
   "cell_type": "markdown",
   "metadata": {
    "colab_type": "text",
    "id": "ZEFgIMMwW4mX"
   },
   "source": [
    "## 1b) Use the backward elimination algorithm to select a subset regression model. Use $\\alpha= 0.10$."
   ]
  },
  {
   "cell_type": "code",
   "execution_count": 11,
   "metadata": {
    "scrolled": true
   },
   "outputs": [],
   "source": [
    "def auto_backward_elim(df, alpha_out=0.10 / 2):\n",
    "    \"\"\" implementation of backward elimination\n",
    "  \n",
    "    Keyword arguments:\n",
    "    indf: DataFrame\n",
    "    alpha_out: variables get rejected if they are not < alpha_out\n",
    "    \"\"\"\n",
    "    ## TODO: backward elimination\n",
    "    y = df[['y']]\n",
    "    X = df.drop('y', axis=1)\n",
    "    all_cols = set(df.columns.values.tolist().copy())\n",
    "    all_cols_list = list(all_cols)\n",
    "    all_cols.remove('y')\n",
    "    ## Start with full model in backward elim\n",
    "    acc_regressors = set(all_cols.copy())\n",
    "    alpha_out = 0.10 / 2\n",
    "    step_results = []\n",
    "    while len(acc_regressors) >= 1 :\n",
    "        print(f\"\"\"\n",
    "        Rerunning model: {acc_regressors}\n",
    "        \"\"\")\n",
    "        X = df[acc_regressors]\n",
    "        results = quick_fit(y, X)\n",
    "        sans_constant_t = results['model_results'].tvalues.drop('const')\n",
    "        sans_constant = results['model_results'].pvalues.drop('const')\n",
    "        ## Check for highest t val\n",
    "        ## drop if > alpha /2\n",
    "        tvalues = sans_constant_t\n",
    "        pvalues = sans_constant\n",
    "        largest_p = pvalues.abs().idxmax()\n",
    "        largest_p_value = pvalues[largest_p]\n",
    "        # remove_var = results[smallest]\n",
    "        print(f'Variable with largest p-value is {largest_p}, p-value is {largest_p_value:.2f}')\n",
    "        results['model_results'].summary()\n",
    "        print(f'is p {largest_p_value:.2f} greater than alpha_out = {alpha_out}? {largest_p_value > alpha_out}')\n",
    "        step_results.append(results)\n",
    "        if largest_p_value > alpha_out:\n",
    "            print(f'Dropping from model {largest_p} with pvalue= {largest_p_value:.2f}')\n",
    "            acc_regressors = acc_regressors.difference([largest_p])\n",
    "        else:\n",
    "            print(f'No more vars to drop! Ending on {acc_regressors}')\n",
    "            break\n",
    "    step_results = pd.DataFrame(step_results)\n",
    "    return(step_results)\n",
    "#     return(results['model_results'].summary())"
   ]
  },
  {
   "cell_type": "code",
   "execution_count": 12,
   "metadata": {},
   "outputs": [
    {
     "name": "stdout",
     "output_type": "stream",
     "text": [
      "\n",
      "        Rerunning model: {'CRIM', 'NOX', 'RM', 'CHAS', 'DIS', 'ZN', 'AGE', 'TAX', 'RAD', 'PTRATIO', 'LSTAT', 'INDUS', 'B'}\n",
      "        \n",
      "Variable with largest p-value is AGE, p-value is 0.96\n",
      "is p 0.96 greater than alpha_out = 0.05? True\n",
      "Dropping from model AGE with pvalue= 0.96\n",
      "\n",
      "        Rerunning model: {'CRIM', 'NOX', 'RM', 'CHAS', 'DIS', 'ZN', 'TAX', 'RAD', 'PTRATIO', 'LSTAT', 'INDUS', 'B'}\n",
      "        \n",
      "Variable with largest p-value is INDUS, p-value is 0.74\n",
      "is p 0.74 greater than alpha_out = 0.05? True\n",
      "Dropping from model INDUS with pvalue= 0.74\n",
      "\n",
      "        Rerunning model: {'CRIM', 'NOX', 'RAD', 'CHAS', 'DIS', 'ZN', 'TAX', 'RM', 'PTRATIO', 'LSTAT', 'B'}\n",
      "        \n",
      "Variable with largest p-value is CHAS, p-value is 0.00\n",
      "is p 0.00 greater than alpha_out = 0.05? False\n",
      "No more vars to drop! Ending on {'CRIM', 'NOX', 'RAD', 'CHAS', 'DIS', 'ZN', 'TAX', 'RM', 'PTRATIO', 'LSTAT', 'B'}\n"
     ]
    },
    {
     "data": {
      "text/html": [
       "<div>\n",
       "<style scoped>\n",
       "    .dataframe tbody tr th:only-of-type {\n",
       "        vertical-align: middle;\n",
       "    }\n",
       "\n",
       "    .dataframe tbody tr th {\n",
       "        vertical-align: top;\n",
       "    }\n",
       "\n",
       "    .dataframe thead th {\n",
       "        text-align: right;\n",
       "    }\n",
       "</style>\n",
       "<table border=\"1\" class=\"dataframe\">\n",
       "  <thead>\n",
       "    <tr style=\"text-align: right;\">\n",
       "      <th></th>\n",
       "      <th>k_count</th>\n",
       "      <th>p_count</th>\n",
       "      <th>formula</th>\n",
       "      <th>ss_res</th>\n",
       "      <th>R2</th>\n",
       "      <th>R2_adj</th>\n",
       "      <th>MS_res</th>\n",
       "      <th>C_p</th>\n",
       "      <th>PRESS</th>\n",
       "      <th>AIC</th>\n",
       "      <th>model_results</th>\n",
       "      <th>pt_onevar</th>\n",
       "    </tr>\n",
       "  </thead>\n",
       "  <tbody>\n",
       "    <tr>\n",
       "      <th>0</th>\n",
       "      <td>13</td>\n",
       "      <td>14</td>\n",
       "      <td>(const, CRIM, NOX, RM, CHAS, DIS, ZN, AGE, TAX...</td>\n",
       "      <td>11078.784578</td>\n",
       "      <td>0.740643</td>\n",
       "      <td>0.733790</td>\n",
       "      <td>22.517855</td>\n",
       "      <td>-42.0</td>\n",
       "      <td>12005.227233</td>\n",
       "      <td>3025.608594</td>\n",
       "      <td>&lt;statsmodels.regression.linear_model.Regressio...</td>\n",
       "      <td>3.283438e-12</td>\n",
       "    </tr>\n",
       "    <tr>\n",
       "      <th>1</th>\n",
       "      <td>12</td>\n",
       "      <td>13</td>\n",
       "      <td>(const, CRIM, NOX, RM, CHAS, DIS, ZN, TAX, RAD...</td>\n",
       "      <td>11078.846412</td>\n",
       "      <td>0.740641</td>\n",
       "      <td>0.734328</td>\n",
       "      <td>22.472305</td>\n",
       "      <td>-39.0</td>\n",
       "      <td>11927.413936</td>\n",
       "      <td>3023.611418</td>\n",
       "      <td>&lt;statsmodels.regression.linear_model.Regressio...</td>\n",
       "      <td>2.715464e-12</td>\n",
       "    </tr>\n",
       "    <tr>\n",
       "      <th>2</th>\n",
       "      <td>11</td>\n",
       "      <td>12</td>\n",
       "      <td>(const, CRIM, NOX, RAD, CHAS, DIS, ZN, TAX, RM...</td>\n",
       "      <td>11081.363952</td>\n",
       "      <td>0.740582</td>\n",
       "      <td>0.734806</td>\n",
       "      <td>22.431911</td>\n",
       "      <td>-36.0</td>\n",
       "      <td>11897.702884</td>\n",
       "      <td>3021.726388</td>\n",
       "      <td>&lt;statsmodels.regression.linear_model.Regressio...</td>\n",
       "      <td>2.727265e-12</td>\n",
       "    </tr>\n",
       "  </tbody>\n",
       "</table>\n",
       "</div>"
      ],
      "text/plain": [
       "   k_count  p_count                                            formula  \\\n",
       "0       13       14  (const, CRIM, NOX, RM, CHAS, DIS, ZN, AGE, TAX...   \n",
       "1       12       13  (const, CRIM, NOX, RM, CHAS, DIS, ZN, TAX, RAD...   \n",
       "2       11       12  (const, CRIM, NOX, RAD, CHAS, DIS, ZN, TAX, RM...   \n",
       "\n",
       "         ss_res        R2    R2_adj     MS_res   C_p         PRESS  \\\n",
       "0  11078.784578  0.740643  0.733790  22.517855 -42.0  12005.227233   \n",
       "1  11078.846412  0.740641  0.734328  22.472305 -39.0  11927.413936   \n",
       "2  11081.363952  0.740582  0.734806  22.431911 -36.0  11897.702884   \n",
       "\n",
       "           AIC                                      model_results  \\\n",
       "0  3025.608594  <statsmodels.regression.linear_model.Regressio...   \n",
       "1  3023.611418  <statsmodels.regression.linear_model.Regressio...   \n",
       "2  3021.726388  <statsmodels.regression.linear_model.Regressio...   \n",
       "\n",
       "      pt_onevar  \n",
       "0  3.283438e-12  \n",
       "1  2.715464e-12  \n",
       "2  2.727265e-12  "
      ]
     },
     "execution_count": 12,
     "metadata": {},
     "output_type": "execute_result"
    }
   ],
   "source": [
    "auto_backward_elim(df_boston)"
   ]
  },
  {
   "cell_type": "markdown",
   "metadata": {},
   "source": [
    "### Implementing automatic stepwise regression...\n",
    "\n",
    "- Implemented using recursion with an accumulator. Call `Stepwise()` with parameters"
   ]
  },
  {
   "cell_type": "code",
   "execution_count": 13,
   "metadata": {},
   "outputs": [],
   "source": [
    "def filter_high_p_values(y_in, X_in, acc_regs, alpha_out = 0.1/2):\n",
    "    \"\"\" Returns a new set of regressors, using quick_fit to check for high p values\n",
    "    Ri Le 2020. Please do not share— working on a package.\n",
    "    \"\"\"\n",
    "    print(f'acc: {acc_regs}')\n",
    "    ## Check if we want to remove any now\n",
    "    # filter out variables whose p values do not meet alpha_out\n",
    "    results = quick_fit(y_in, X_in[acc_regs])['model_results']\n",
    "    pvals = results.pvalues.drop('const')\n",
    "    bool_filter = pvals.apply(lambda x: x > alpha_out)\n",
    "    new_pvalues = pvals\n",
    "    new_pvalues = new_pvalues[~bool_filter]\n",
    "    newformula = new_pvalues.index.tolist()\n",
    "    display(new_pvalues)\n",
    "    if acc_regs.intersection(set(newformula)) == acc_regs:\n",
    "        print(f'None dropped, continuing stepwise')\n",
    "    else:\n",
    "        symdif = acc_regs.symmetric_difference(set(newformula))\n",
    "        drop_var = list(symdif)[0]\n",
    "        try: \n",
    "            list(set(acc_regs).remove(drop_var))\n",
    "        except:\n",
    "            pass\n",
    "#         acc_regs.remove(drop_var)\n",
    "        print(f'Dropping: {drop_var}')\n",
    "\n",
    "    #     all_regressors.remove('x_2')\n",
    "    return(acc_regs)\n"
   ]
  },
  {
   "cell_type": "code",
   "execution_count": 14,
   "metadata": {},
   "outputs": [],
   "source": [
    "def test_next_models(y_in, X_in, acc_regs, remaining):\n",
    "    \"\"\"\n",
    "    Generate k+1 models for stepwise regression.\n",
    "    \"\"\"\n",
    "    test_list = []\n",
    "    for new_var in remaining:\n",
    "        new_formula = acc_regs.copy()\n",
    "        new_formula.add(new_var)\n",
    "        test_list.append(quick_fit(y_in, X_in[new_formula]))\n",
    "    # Get the top model... \n",
    "    test_summary = pd.DataFrame(test_list)\n",
    "    return(test_summary)"
   ]
  },
  {
   "cell_type": "code",
   "execution_count": 15,
   "metadata": {},
   "outputs": [],
   "source": [
    "def auto_hybrid_step(df_in, alpha_in=0.10 / 2, alpha_out=0.10 / 2):\n",
    "    \"\"\" implementation of hybrid forward selection.\n",
    "    Keyword arguments:\n",
    "    indf: DataFrame\n",
    "    alpha_out: variables get rejected if they are not < alpha_out\n",
    "    \"\"\"\n",
    "    ## TODO: backward elimination\n",
    "    y = df_in[['y']]\n",
    "    X = df_in.drop('y', axis=1)\n",
    "    all_cols = set(X.columns.values.tolist().copy())\n",
    "    all_cols_list = list(all_cols)\n",
    "    \n",
    "    ## Start with empty\n",
    "    acc_regressors = set()\n",
    "    remaining_regressors = all_cols.copy()\n",
    "    step_results = []\n",
    "    \n",
    "    # Find largest simple correlation.\n",
    "    cormatrix = df_in.corr()[['y']].drop('y').abs()\n",
    "    var_start_index = df_in.corr()[['y']].drop('y').abs().idxmax()\n",
    "    var_start = cormatrix.loc[var_start_index].index.values[0]\n",
    "\n",
    "    acc_regressors.add(var_start)\n",
    "    remaining_regressors.remove(var_start)\n",
    "    \n",
    "    firstmodel = quick_fit(y, X[var_start])\n",
    "    firstmodel['model_results'].summary()\n",
    "    step_results.append(firstmodel)\n",
    "    print(f'accumulated: {acc_regressors}, remaining: {remaining_regressors}')\n",
    "    # acc_regressors.add(new_var)\n",
    "    # all_regressors.remove(new_var)\n",
    "        \n",
    "    while len(remaining_regressors) > 1 :\n",
    "        print(f\"\"\"\n",
    "        Searching best models for k+1: {acc_regressors}\n",
    "        \"\"\")\n",
    "        test_summary = test_next_models(y, X, acc_regressors, remaining_regressors)\n",
    "        ## Find the best model by R2\n",
    "        idxmax = test_summary['R2_adj'].idxmax()\n",
    "        max_row = test_summary.loc[[idxmax]]\n",
    "        new_form = set(max_row['formula'].values.tolist()[0])\n",
    "        new_form.remove('const')\n",
    "        new_var = acc_regressors.symmetric_difference(new_form)\n",
    "        print(f'new_var is {new_var}')\n",
    "        new_var = list(new_var)[0]\n",
    "#         max_row.model_results.values[0].summary()\n",
    "        \n",
    "        ## Add the new regressor, remove from incoming\n",
    "        acc_regressors.add(new_var)\n",
    "        remaining_regressors.remove(new_var)\n",
    "        ## Filter out vars that don't meet alpha out\n",
    "        step_results.append(quick_fit(y, X[acc_regressors]))\n",
    "        acc_regressors = filter_high_p_values(y, X, acc_regressors)\n",
    "\n",
    "    step_results = pd.DataFrame(step_results)\n",
    "    return(step_results)\n",
    "#     return(results['model_results'].summary())"
   ]
  },
  {
   "cell_type": "code",
   "execution_count": 16,
   "metadata": {},
   "outputs": [
    {
     "name": "stdout",
     "output_type": "stream",
     "text": [
      "accumulated: {'LSTAT'}, remaining: {'CRIM', 'NOX', 'RAD', 'CHAS', 'DIS', 'ZN', 'AGE', 'TAX', 'RM', 'PTRATIO', 'INDUS', 'B'}\n",
      "\n",
      "        Searching best models for k+1: {'LSTAT'}\n",
      "        \n",
      "new_var is {'RM'}\n",
      "acc: {'RM', 'LSTAT'}\n"
     ]
    },
    {
     "data": {
      "text/plain": [
       "RM       3.472258e-27\n",
       "LSTAT    6.669365e-41\n",
       "dtype: float64"
      ]
     },
     "metadata": {},
     "output_type": "display_data"
    },
    {
     "name": "stdout",
     "output_type": "stream",
     "text": [
      "None dropped, continuing stepwise\n",
      "\n",
      "        Searching best models for k+1: {'RM', 'LSTAT'}\n",
      "        \n",
      "new_var is {'PTRATIO'}\n",
      "acc: {'RM', 'PTRATIO', 'LSTAT'}\n"
     ]
    },
    {
     "data": {
      "text/plain": [
       "RM         7.734793e-24\n",
       "PTRATIO    1.644660e-14\n",
       "LSTAT      7.944208e-36\n",
       "dtype: float64"
      ]
     },
     "metadata": {},
     "output_type": "display_data"
    },
    {
     "name": "stdout",
     "output_type": "stream",
     "text": [
      "None dropped, continuing stepwise\n",
      "\n",
      "        Searching best models for k+1: {'RM', 'PTRATIO', 'LSTAT'}\n",
      "        \n",
      "new_var is {'DIS'}\n",
      "acc: {'RM', 'PTRATIO', 'LSTAT', 'DIS'}\n"
     ]
    },
    {
     "data": {
      "text/plain": [
       "RM         1.829210e-21\n",
       "PTRATIO    4.941919e-16\n",
       "LSTAT      7.535269e-39\n",
       "DIS        1.668467e-05\n",
       "dtype: float64"
      ]
     },
     "metadata": {},
     "output_type": "display_data"
    },
    {
     "name": "stdout",
     "output_type": "stream",
     "text": [
      "None dropped, continuing stepwise\n",
      "\n",
      "        Searching best models for k+1: {'RM', 'PTRATIO', 'LSTAT', 'DIS'}\n",
      "        \n",
      "new_var is {'NOX'}\n",
      "acc: {'NOX', 'DIS', 'RM', 'PTRATIO', 'LSTAT'}\n"
     ]
    },
    {
     "data": {
      "text/plain": [
       "NOX        5.488148e-08\n",
       "DIS        6.642179e-12\n",
       "RM         5.739143e-22\n",
       "PTRATIO    8.800790e-19\n",
       "LSTAT      7.923392e-30\n",
       "dtype: float64"
      ]
     },
     "metadata": {},
     "output_type": "display_data"
    },
    {
     "name": "stdout",
     "output_type": "stream",
     "text": [
      "None dropped, continuing stepwise\n",
      "\n",
      "        Searching best models for k+1: {'NOX', 'DIS', 'RM', 'PTRATIO', 'LSTAT'}\n",
      "        \n",
      "new_var is {'CHAS'}\n",
      "acc: {'NOX', 'CHAS', 'DIS', 'RM', 'PTRATIO', 'LSTAT'}\n"
     ]
    },
    {
     "data": {
      "text/plain": [
       "NOX        1.134454e-08\n",
       "CHAS       2.654731e-04\n",
       "DIS        1.975595e-11\n",
       "RM         6.144302e-22\n",
       "PTRATIO    1.078984e-17\n",
       "LSTAT      2.305468e-29\n",
       "dtype: float64"
      ]
     },
     "metadata": {},
     "output_type": "display_data"
    },
    {
     "name": "stdout",
     "output_type": "stream",
     "text": [
      "None dropped, continuing stepwise\n",
      "\n",
      "        Searching best models for k+1: {'NOX', 'CHAS', 'DIS', 'RM', 'PTRATIO', 'LSTAT'}\n",
      "        \n",
      "new_var is {'B'}\n",
      "acc: {'NOX', 'CHAS', 'DIS', 'RM', 'PTRATIO', 'LSTAT', 'B'}\n"
     ]
    },
    {
     "data": {
      "text/plain": [
       "NOX        4.186841e-07\n",
       "CHAS       5.375760e-04\n",
       "DIS        2.926984e-11\n",
       "RM         1.154952e-23\n",
       "PTRATIO    4.820631e-17\n",
       "LSTAT      3.880071e-26\n",
       "B          7.719459e-04\n",
       "dtype: float64"
      ]
     },
     "metadata": {},
     "output_type": "display_data"
    },
    {
     "name": "stdout",
     "output_type": "stream",
     "text": [
      "None dropped, continuing stepwise\n",
      "\n",
      "        Searching best models for k+1: {'NOX', 'CHAS', 'DIS', 'RM', 'PTRATIO', 'LSTAT', 'B'}\n",
      "        \n",
      "new_var is {'ZN'}\n",
      "acc: {'NOX', 'CHAS', 'DIS', 'ZN', 'RM', 'PTRATIO', 'LSTAT', 'B'}\n"
     ]
    },
    {
     "data": {
      "text/plain": [
       "NOX        3.429905e-07\n",
       "CHAS       3.835425e-04\n",
       "DIS        7.150180e-13\n",
       "ZN         4.651616e-03\n",
       "RM         7.626143e-22\n",
       "PTRATIO    1.287254e-13\n",
       "LSTAT      6.787114e-27\n",
       "B          4.013916e-04\n",
       "dtype: float64"
      ]
     },
     "metadata": {},
     "output_type": "display_data"
    },
    {
     "name": "stdout",
     "output_type": "stream",
     "text": [
      "None dropped, continuing stepwise\n",
      "\n",
      "        Searching best models for k+1: {'NOX', 'CHAS', 'DIS', 'ZN', 'RM', 'PTRATIO', 'LSTAT', 'B'}\n",
      "        \n",
      "new_var is {'CRIM'}\n",
      "acc: {'CRIM', 'NOX', 'CHAS', 'DIS', 'ZN', 'RM', 'PTRATIO', 'LSTAT', 'B'}\n"
     ]
    },
    {
     "data": {
      "text/plain": [
       "CRIM       4.456745e-02\n",
       "NOX        8.931508e-07\n",
       "CHAS       5.274479e-04\n",
       "DIS        1.587312e-13\n",
       "ZN         1.841867e-03\n",
       "RM         3.163707e-22\n",
       "PTRATIO    3.190019e-12\n",
       "LSTAT      8.711357e-25\n",
       "B          2.153474e-03\n",
       "dtype: float64"
      ]
     },
     "metadata": {},
     "output_type": "display_data"
    },
    {
     "name": "stdout",
     "output_type": "stream",
     "text": [
      "None dropped, continuing stepwise\n",
      "\n",
      "        Searching best models for k+1: {'CRIM', 'NOX', 'CHAS', 'DIS', 'ZN', 'RM', 'PTRATIO', 'LSTAT', 'B'}\n",
      "        \n",
      "new_var is {'RAD'}\n",
      "acc: {'CRIM', 'NOX', 'RAD', 'CHAS', 'DIS', 'ZN', 'RM', 'PTRATIO', 'LSTAT', 'B'}\n"
     ]
    },
    {
     "data": {
      "text/plain": [
       "CRIM       1.649638e-03\n",
       "NOX        8.922658e-09\n",
       "RAD        1.692182e-03\n",
       "CHAS       6.136229e-04\n",
       "DIS        1.080138e-13\n",
       "ZN         6.531909e-03\n",
       "RM         1.118752e-20\n",
       "PTRATIO    2.297147e-14\n",
       "LSTAT      2.109430e-25\n",
       "B          3.625539e-04\n",
       "dtype: float64"
      ]
     },
     "metadata": {},
     "output_type": "display_data"
    },
    {
     "name": "stdout",
     "output_type": "stream",
     "text": [
      "None dropped, continuing stepwise\n",
      "\n",
      "        Searching best models for k+1: {'CRIM', 'NOX', 'RAD', 'CHAS', 'DIS', 'ZN', 'RM', 'PTRATIO', 'LSTAT', 'B'}\n",
      "        \n",
      "new_var is {'TAX'}\n",
      "acc: {'CRIM', 'NOX', 'RAD', 'CHAS', 'DIS', 'ZN', 'TAX', 'RM', 'PTRATIO', 'LSTAT', 'B'}\n"
     ]
    },
    {
     "data": {
      "text/plain": [
       "CRIM       1.010438e-03\n",
       "NOX        1.209413e-06\n",
       "RAD        2.996799e-06\n",
       "CHAS       1.551469e-03\n",
       "DIS        6.837043e-15\n",
       "ZN         7.542759e-04\n",
       "TAX        5.214237e-04\n",
       "RM         2.889779e-19\n",
       "PTRATIO    9.235063e-13\n",
       "LSTAT      2.140586e-25\n",
       "B          5.565743e-04\n",
       "dtype: float64"
      ]
     },
     "metadata": {},
     "output_type": "display_data"
    },
    {
     "name": "stdout",
     "output_type": "stream",
     "text": [
      "None dropped, continuing stepwise\n",
      "\n",
      "        Searching best models for k+1: {'CRIM', 'NOX', 'RAD', 'CHAS', 'DIS', 'ZN', 'TAX', 'RM', 'PTRATIO', 'LSTAT', 'B'}\n",
      "        \n",
      "new_var is {'INDUS'}\n",
      "acc: {'CRIM', 'NOX', 'RAD', 'CHAS', 'DIS', 'ZN', 'TAX', 'RM', 'PTRATIO', 'LSTAT', 'INDUS', 'B'}\n"
     ]
    },
    {
     "data": {
      "text/plain": [
       "CRIM       1.074747e-03\n",
       "NOX        1.967110e-06\n",
       "RAD        4.750539e-06\n",
       "CHAS       1.862634e-03\n",
       "DIS        5.027955e-14\n",
       "ZN         7.193806e-04\n",
       "TAX        1.099120e-03\n",
       "RM         3.365945e-19\n",
       "PTRATIO    1.099178e-12\n",
       "LSTAT      2.569688e-25\n",
       "B          5.444689e-04\n",
       "dtype: float64"
      ]
     },
     "metadata": {},
     "output_type": "display_data"
    },
    {
     "name": "stdout",
     "output_type": "stream",
     "text": [
      "Dropping: INDUS\n"
     ]
    },
    {
     "data": {
      "text/html": [
       "<div>\n",
       "<style scoped>\n",
       "    .dataframe tbody tr th:only-of-type {\n",
       "        vertical-align: middle;\n",
       "    }\n",
       "\n",
       "    .dataframe tbody tr th {\n",
       "        vertical-align: top;\n",
       "    }\n",
       "\n",
       "    .dataframe thead th {\n",
       "        text-align: right;\n",
       "    }\n",
       "</style>\n",
       "<table border=\"1\" class=\"dataframe\">\n",
       "  <thead>\n",
       "    <tr style=\"text-align: right;\">\n",
       "      <th></th>\n",
       "      <th>k_count</th>\n",
       "      <th>p_count</th>\n",
       "      <th>formula</th>\n",
       "      <th>ss_res</th>\n",
       "      <th>R2</th>\n",
       "      <th>R2_adj</th>\n",
       "      <th>MS_res</th>\n",
       "      <th>C_p</th>\n",
       "      <th>PRESS</th>\n",
       "      <th>AIC</th>\n",
       "      <th>model_results</th>\n",
       "      <th>pt_onevar</th>\n",
       "    </tr>\n",
       "  </thead>\n",
       "  <tbody>\n",
       "    <tr>\n",
       "      <th>0</th>\n",
       "      <td>1</td>\n",
       "      <td>2</td>\n",
       "      <td>(const, LSTAT)</td>\n",
       "      <td>19472.381418</td>\n",
       "      <td>0.544146</td>\n",
       "      <td>0.543242</td>\n",
       "      <td>38.635677</td>\n",
       "      <td>-6.0</td>\n",
       "      <td>19678.389502</td>\n",
       "      <td>3286.974957</td>\n",
       "      <td>&lt;statsmodels.regression.linear_model.Regressio...</td>\n",
       "      <td>3.743081e-236</td>\n",
       "    </tr>\n",
       "    <tr>\n",
       "      <th>1</th>\n",
       "      <td>2</td>\n",
       "      <td>3</td>\n",
       "      <td>(const, RM, LSTAT)</td>\n",
       "      <td>15439.309201</td>\n",
       "      <td>0.638562</td>\n",
       "      <td>0.637124</td>\n",
       "      <td>30.694452</td>\n",
       "      <td>-9.0</td>\n",
       "      <td>15814.872540</td>\n",
       "      <td>3171.542314</td>\n",
       "      <td>&lt;statsmodels.regression.linear_model.Regressio...</td>\n",
       "      <td>6.687649e-01</td>\n",
       "    </tr>\n",
       "    <tr>\n",
       "      <th>2</th>\n",
       "      <td>3</td>\n",
       "      <td>4</td>\n",
       "      <td>(const, RM, PTRATIO, LSTAT)</td>\n",
       "      <td>13727.985314</td>\n",
       "      <td>0.678624</td>\n",
       "      <td>0.676704</td>\n",
       "      <td>27.346584</td>\n",
       "      <td>-12.0</td>\n",
       "      <td>14117.504004</td>\n",
       "      <td>3114.097267</td>\n",
       "      <td>&lt;statsmodels.regression.linear_model.Regressio...</td>\n",
       "      <td>2.725808e-06</td>\n",
       "    </tr>\n",
       "    <tr>\n",
       "      <th>3</th>\n",
       "      <td>4</td>\n",
       "      <td>5</td>\n",
       "      <td>(const, RM, PTRATIO, LSTAT, DIS)</td>\n",
       "      <td>13228.907703</td>\n",
       "      <td>0.690308</td>\n",
       "      <td>0.687835</td>\n",
       "      <td>26.405005</td>\n",
       "      <td>-15.0</td>\n",
       "      <td>13696.092387</td>\n",
       "      <td>3097.359045</td>\n",
       "      <td>&lt;statsmodels.regression.linear_model.Regressio...</td>\n",
       "      <td>3.768552e-09</td>\n",
       "    </tr>\n",
       "    <tr>\n",
       "      <th>4</th>\n",
       "      <td>5</td>\n",
       "      <td>6</td>\n",
       "      <td>(const, NOX, DIS, RM, PTRATIO, LSTAT)</td>\n",
       "      <td>12469.344151</td>\n",
       "      <td>0.708089</td>\n",
       "      <td>0.705170</td>\n",
       "      <td>24.938688</td>\n",
       "      <td>-18.0</td>\n",
       "      <td>12973.603871</td>\n",
       "      <td>3069.438633</td>\n",
       "      <td>&lt;statsmodels.regression.linear_model.Regressio...</td>\n",
       "      <td>3.426786e-15</td>\n",
       "    </tr>\n",
       "    <tr>\n",
       "      <th>5</th>\n",
       "      <td>6</td>\n",
       "      <td>7</td>\n",
       "      <td>(const, NOX, CHAS, DIS, RM, PTRATIO, LSTAT)</td>\n",
       "      <td>12141.072736</td>\n",
       "      <td>0.715774</td>\n",
       "      <td>0.712357</td>\n",
       "      <td>24.330807</td>\n",
       "      <td>-21.0</td>\n",
       "      <td>12762.559644</td>\n",
       "      <td>3057.939050</td>\n",
       "      <td>&lt;statsmodels.regression.linear_model.Regressio...</td>\n",
       "      <td>4.291836e-15</td>\n",
       "    </tr>\n",
       "    <tr>\n",
       "      <th>6</th>\n",
       "      <td>7</td>\n",
       "      <td>8</td>\n",
       "      <td>(const, NOX, CHAS, DIS, RM, PTRATIO, LSTAT, B)</td>\n",
       "      <td>11868.235607</td>\n",
       "      <td>0.722161</td>\n",
       "      <td>0.718256</td>\n",
       "      <td>23.831798</td>\n",
       "      <td>-24.0</td>\n",
       "      <td>12541.058642</td>\n",
       "      <td>3048.438383</td>\n",
       "      <td>&lt;statsmodels.regression.linear_model.Regressio...</td>\n",
       "      <td>1.187252e-09</td>\n",
       "    </tr>\n",
       "    <tr>\n",
       "      <th>7</th>\n",
       "      <td>8</td>\n",
       "      <td>9</td>\n",
       "      <td>(const, NOX, CHAS, DIS, ZN, RM, PTRATIO, LSTAT...</td>\n",
       "      <td>11678.299470</td>\n",
       "      <td>0.726608</td>\n",
       "      <td>0.722207</td>\n",
       "      <td>23.497584</td>\n",
       "      <td>-27.0</td>\n",
       "      <td>12389.456369</td>\n",
       "      <td>3042.274993</td>\n",
       "      <td>&lt;statsmodels.regression.linear_model.Regressio...</td>\n",
       "      <td>1.030083e-09</td>\n",
       "    </tr>\n",
       "    <tr>\n",
       "      <th>8</th>\n",
       "      <td>9</td>\n",
       "      <td>10</td>\n",
       "      <td>(const, CRIM, NOX, CHAS, DIS, ZN, RM, PTRATIO,...</td>\n",
       "      <td>11583.587544</td>\n",
       "      <td>0.728825</td>\n",
       "      <td>0.723905</td>\n",
       "      <td>23.354007</td>\n",
       "      <td>-30.0</td>\n",
       "      <td>12370.746205</td>\n",
       "      <td>3040.154562</td>\n",
       "      <td>&lt;statsmodels.regression.linear_model.Regressio...</td>\n",
       "      <td>2.759069e-09</td>\n",
       "    </tr>\n",
       "    <tr>\n",
       "      <th>9</th>\n",
       "      <td>10</td>\n",
       "      <td>11</td>\n",
       "      <td>(const, CRIM, NOX, RAD, CHAS, DIS, ZN, RM, PTR...</td>\n",
       "      <td>11354.983231</td>\n",
       "      <td>0.734177</td>\n",
       "      <td>0.728807</td>\n",
       "      <td>22.939360</td>\n",
       "      <td>-33.0</td>\n",
       "      <td>12156.073414</td>\n",
       "      <td>3032.068702</td>\n",
       "      <td>&lt;statsmodels.regression.linear_model.Regressio...</td>\n",
       "      <td>2.972306e-11</td>\n",
       "    </tr>\n",
       "    <tr>\n",
       "      <th>10</th>\n",
       "      <td>11</td>\n",
       "      <td>12</td>\n",
       "      <td>(const, CRIM, NOX, RAD, CHAS, DIS, ZN, TAX, RM...</td>\n",
       "      <td>11081.363952</td>\n",
       "      <td>0.740582</td>\n",
       "      <td>0.734806</td>\n",
       "      <td>22.431911</td>\n",
       "      <td>-36.0</td>\n",
       "      <td>11897.702884</td>\n",
       "      <td>3021.726388</td>\n",
       "      <td>&lt;statsmodels.regression.linear_model.Regressio...</td>\n",
       "      <td>2.727265e-12</td>\n",
       "    </tr>\n",
       "    <tr>\n",
       "      <th>11</th>\n",
       "      <td>12</td>\n",
       "      <td>13</td>\n",
       "      <td>(const, CRIM, NOX, RAD, CHAS, DIS, ZN, TAX, RM...</td>\n",
       "      <td>11078.846412</td>\n",
       "      <td>0.740641</td>\n",
       "      <td>0.734328</td>\n",
       "      <td>22.472305</td>\n",
       "      <td>-39.0</td>\n",
       "      <td>11927.413936</td>\n",
       "      <td>3023.611418</td>\n",
       "      <td>&lt;statsmodels.regression.linear_model.Regressio...</td>\n",
       "      <td>2.715464e-12</td>\n",
       "    </tr>\n",
       "  </tbody>\n",
       "</table>\n",
       "</div>"
      ],
      "text/plain": [
       "    k_count  p_count                                            formula  \\\n",
       "0         1        2                                     (const, LSTAT)   \n",
       "1         2        3                                 (const, RM, LSTAT)   \n",
       "2         3        4                        (const, RM, PTRATIO, LSTAT)   \n",
       "3         4        5                   (const, RM, PTRATIO, LSTAT, DIS)   \n",
       "4         5        6              (const, NOX, DIS, RM, PTRATIO, LSTAT)   \n",
       "5         6        7        (const, NOX, CHAS, DIS, RM, PTRATIO, LSTAT)   \n",
       "6         7        8     (const, NOX, CHAS, DIS, RM, PTRATIO, LSTAT, B)   \n",
       "7         8        9  (const, NOX, CHAS, DIS, ZN, RM, PTRATIO, LSTAT...   \n",
       "8         9       10  (const, CRIM, NOX, CHAS, DIS, ZN, RM, PTRATIO,...   \n",
       "9        10       11  (const, CRIM, NOX, RAD, CHAS, DIS, ZN, RM, PTR...   \n",
       "10       11       12  (const, CRIM, NOX, RAD, CHAS, DIS, ZN, TAX, RM...   \n",
       "11       12       13  (const, CRIM, NOX, RAD, CHAS, DIS, ZN, TAX, RM...   \n",
       "\n",
       "          ss_res        R2    R2_adj     MS_res   C_p         PRESS  \\\n",
       "0   19472.381418  0.544146  0.543242  38.635677  -6.0  19678.389502   \n",
       "1   15439.309201  0.638562  0.637124  30.694452  -9.0  15814.872540   \n",
       "2   13727.985314  0.678624  0.676704  27.346584 -12.0  14117.504004   \n",
       "3   13228.907703  0.690308  0.687835  26.405005 -15.0  13696.092387   \n",
       "4   12469.344151  0.708089  0.705170  24.938688 -18.0  12973.603871   \n",
       "5   12141.072736  0.715774  0.712357  24.330807 -21.0  12762.559644   \n",
       "6   11868.235607  0.722161  0.718256  23.831798 -24.0  12541.058642   \n",
       "7   11678.299470  0.726608  0.722207  23.497584 -27.0  12389.456369   \n",
       "8   11583.587544  0.728825  0.723905  23.354007 -30.0  12370.746205   \n",
       "9   11354.983231  0.734177  0.728807  22.939360 -33.0  12156.073414   \n",
       "10  11081.363952  0.740582  0.734806  22.431911 -36.0  11897.702884   \n",
       "11  11078.846412  0.740641  0.734328  22.472305 -39.0  11927.413936   \n",
       "\n",
       "            AIC                                      model_results  \\\n",
       "0   3286.974957  <statsmodels.regression.linear_model.Regressio...   \n",
       "1   3171.542314  <statsmodels.regression.linear_model.Regressio...   \n",
       "2   3114.097267  <statsmodels.regression.linear_model.Regressio...   \n",
       "3   3097.359045  <statsmodels.regression.linear_model.Regressio...   \n",
       "4   3069.438633  <statsmodels.regression.linear_model.Regressio...   \n",
       "5   3057.939050  <statsmodels.regression.linear_model.Regressio...   \n",
       "6   3048.438383  <statsmodels.regression.linear_model.Regressio...   \n",
       "7   3042.274993  <statsmodels.regression.linear_model.Regressio...   \n",
       "8   3040.154562  <statsmodels.regression.linear_model.Regressio...   \n",
       "9   3032.068702  <statsmodels.regression.linear_model.Regressio...   \n",
       "10  3021.726388  <statsmodels.regression.linear_model.Regressio...   \n",
       "11  3023.611418  <statsmodels.regression.linear_model.Regressio...   \n",
       "\n",
       "        pt_onevar  \n",
       "0   3.743081e-236  \n",
       "1    6.687649e-01  \n",
       "2    2.725808e-06  \n",
       "3    3.768552e-09  \n",
       "4    3.426786e-15  \n",
       "5    4.291836e-15  \n",
       "6    1.187252e-09  \n",
       "7    1.030083e-09  \n",
       "8    2.759069e-09  \n",
       "9    2.972306e-11  \n",
       "10   2.727265e-12  \n",
       "11   2.715464e-12  "
      ]
     },
     "execution_count": 16,
     "metadata": {},
     "output_type": "execute_result"
    }
   ],
   "source": [
    "# auto_hybrid_step(dfb3)\n",
    "hybrid_summary = auto_hybrid_step(df_boston)\n",
    "hybrid_summary"
   ]
  },
  {
   "cell_type": "code",
   "execution_count": 17,
   "metadata": {},
   "outputs": [
    {
     "data": {
      "text/html": [
       "\n",
       "<div id=\"altair-viz-809976bf9700448797db1788c4432583\"></div>\n",
       "<script type=\"text/javascript\">\n",
       "  (function(spec, embedOpt){\n",
       "    let outputDiv = document.currentScript.previousElementSibling;\n",
       "    if (outputDiv.id !== \"altair-viz-809976bf9700448797db1788c4432583\") {\n",
       "      outputDiv = document.getElementById(\"altair-viz-809976bf9700448797db1788c4432583\");\n",
       "    }\n",
       "    const paths = {\n",
       "      \"vega\": \"https://cdn.jsdelivr.net/npm//vega@5?noext\",\n",
       "      \"vega-lib\": \"https://cdn.jsdelivr.net/npm//vega-lib?noext\",\n",
       "      \"vega-lite\": \"https://cdn.jsdelivr.net/npm//vega-lite@4.8.1?noext\",\n",
       "      \"vega-embed\": \"https://cdn.jsdelivr.net/npm//vega-embed@6?noext\",\n",
       "    };\n",
       "\n",
       "    function loadScript(lib) {\n",
       "      return new Promise(function(resolve, reject) {\n",
       "        var s = document.createElement('script');\n",
       "        s.src = paths[lib];\n",
       "        s.async = true;\n",
       "        s.onload = () => resolve(paths[lib]);\n",
       "        s.onerror = () => reject(`Error loading script: ${paths[lib]}`);\n",
       "        document.getElementsByTagName(\"head\")[0].appendChild(s);\n",
       "      });\n",
       "    }\n",
       "\n",
       "    function showError(err) {\n",
       "      outputDiv.innerHTML = `<div class=\"error\" style=\"color:red;\">${err}</div>`;\n",
       "      throw err;\n",
       "    }\n",
       "\n",
       "    function displayChart(vegaEmbed) {\n",
       "      vegaEmbed(outputDiv, spec, embedOpt)\n",
       "        .catch(err => showError(`Javascript Error: ${err.message}<br>This usually means there's a typo in your chart specification. See the javascript console for the full traceback.`));\n",
       "    }\n",
       "\n",
       "    if(typeof define === \"function\" && define.amd) {\n",
       "      requirejs.config({paths});\n",
       "      require([\"vega-embed\"], displayChart, err => showError(`Error loading script: ${err.message}`));\n",
       "    } else if (typeof vegaEmbed === \"function\") {\n",
       "      displayChart(vegaEmbed);\n",
       "    } else {\n",
       "      loadScript(\"vega\")\n",
       "        .then(() => loadScript(\"vega-lite\"))\n",
       "        .then(() => loadScript(\"vega-embed\"))\n",
       "        .catch(showError)\n",
       "        .then(() => displayChart(vegaEmbed));\n",
       "    }\n",
       "  })({\"config\": {\"view\": {\"continuousWidth\": 400, \"continuousHeight\": 300}}, \"repeat\": {\"row\": [\"index\", \"k_count\", \"p_count\", \"formula\", \"ss_res\", \"R2\", \"R2_adj\", \"MS_res\", \"C_p\", \"PRESS\", \"AIC\"]}, \"spec\": {\"data\": {\"name\": \"data-4de05d2b0ea49b313350b5a972f8bb0e\"}, \"mark\": {\"type\": \"point\", \"size\": 300}, \"encoding\": {\"color\": {\"type\": \"nominal\", \"field\": \"p_count\"}, \"tooltip\": [{\"type\": \"quantitative\", \"field\": \"index\"}, {\"type\": \"quantitative\", \"field\": \"k_count\"}, {\"type\": \"nominal\", \"field\": \"p_count\"}, {\"type\": \"nominal\", \"field\": \"formula\"}, {\"type\": \"quantitative\", \"field\": \"ss_res\"}, {\"type\": \"quantitative\", \"field\": \"R2\"}, {\"type\": \"quantitative\", \"field\": \"R2_adj\"}, {\"type\": \"quantitative\", \"field\": \"MS_res\"}, {\"type\": \"quantitative\", \"field\": \"C_p\"}, {\"type\": \"quantitative\", \"field\": \"PRESS\"}, {\"type\": \"quantitative\", \"field\": \"AIC\"}], \"x\": {\"type\": \"quantitative\", \"field\": \"index\"}, \"y\": {\"type\": \"quantitative\", \"field\": {\"repeat\": \"row\"}}}, \"height\": 150, \"selection\": {\"selector002\": {\"type\": \"interval\", \"bind\": \"scales\", \"encodings\": [\"x\", \"y\"]}}, \"title\": \"Stepwise Regression Results Viewer\"}, \"spacing\": 0, \"$schema\": \"https://vega.github.io/schema/vega-lite/v4.8.1.json\", \"datasets\": {\"data-4de05d2b0ea49b313350b5a972f8bb0e\": [{\"index\": 0, \"k_count\": 1, \"p_count\": \"2\", \"formula\": [\"const\", \"LSTAT\"], \"ss_res\": 19472.381418326437, \"R2\": 0.5441462975864799, \"R2_adj\": 0.543241825954707, \"MS_res\": 38.63567741731436, \"C_p\": -6.000000000000057, \"PRESS\": 19678.389502421993, \"AIC\": 3286.974956900157}, {\"index\": 1, \"k_count\": 2, \"p_count\": \"3\", \"formula\": [\"const\", \"RM\", \"LSTAT\"], \"ss_res\": 15439.309201313532, \"R2\": 0.6385616062603403, \"R2_adj\": 0.637124475470123, \"MS_res\": 30.69445169247223, \"C_p\": -9.0, \"PRESS\": 15814.872539854192, \"AIC\": 3171.5423142992013}, {\"index\": 2, \"k_count\": 3, \"p_count\": \"4\", \"formula\": [\"const\", \"RM\", \"PTRATIO\", \"LSTAT\"], \"ss_res\": 13727.985313799509, \"R2\": 0.6786241601613112, \"R2_adj\": 0.6767035874132712, \"MS_res\": 27.346584290437267, \"C_p\": -12.0, \"PRESS\": 14117.50400390381, \"AIC\": 3114.0972674193326}, {\"index\": 3, \"k_count\": 4, \"p_count\": \"5\", \"formula\": [\"const\", \"RM\", \"PTRATIO\", \"LSTAT\", \"DIS\"], \"ss_res\": 13228.907702611843, \"R2\": 0.6903077016842538, \"R2_adj\": 0.6878351084841281, \"MS_res\": 26.405005394434816, \"C_p\": -15.0, \"PRESS\": 13696.092386596629, \"AIC\": 3097.359044862759}, {\"index\": 4, \"k_count\": 5, \"p_count\": \"6\", \"formula\": [\"const\", \"NOX\", \"DIS\", \"RM\", \"PTRATIO\", \"LSTAT\"], \"ss_res\": 12469.344150807054, \"R2\": 0.7080892893529662, \"R2_adj\": 0.7051701822464959, \"MS_res\": 24.938688301614107, \"C_p\": -18.0, \"PRESS\": 12973.603871319263, \"AIC\": 3069.438633167217}, {\"index\": 5, \"k_count\": 6, \"p_count\": \"7\", \"formula\": [\"const\", \"NOX\", \"CHAS\", \"DIS\", \"RM\", \"PTRATIO\", \"LSTAT\"], \"ss_res\": 12141.072735897755, \"R2\": 0.7157742117396082, \"R2_adj\": 0.712356667191387, \"MS_res\": 24.330807085967443, \"C_p\": -21.0, \"PRESS\": 12762.559643608227, \"AIC\": 3057.9390497191152}, {\"index\": 6, \"k_count\": 7, \"p_count\": \"8\", \"formula\": [\"const\", \"NOX\", \"CHAS\", \"DIS\", \"RM\", \"PTRATIO\", \"LSTAT\", \"B\"], \"ss_res\": 11868.235607321094, \"R2\": 0.7221614025277103, \"R2_adj\": 0.7182560407158509, \"MS_res\": 23.83179840827529, \"C_p\": -24.0, \"PRESS\": 12541.058641691481, \"AIC\": 3048.438382711162}, {\"index\": 7, \"k_count\": 8, \"p_count\": \"9\", \"formula\": [\"const\", \"NOX\", \"CHAS\", \"DIS\", \"ZN\", \"RM\", \"PTRATIO\", \"LSTAT\", \"B\"], \"ss_res\": 11678.299470223932, \"R2\": 0.726607858739603, \"R2_adj\": 0.7222071804094556, \"MS_res\": 23.49758444713065, \"C_p\": -27.0, \"PRESS\": 12389.456369281841, \"AIC\": 3042.274993098419}, {\"index\": 8, \"k_count\": 9, \"p_count\": \"10\", \"formula\": [\"const\", \"CRIM\", \"NOX\", \"CHAS\", \"DIS\", \"ZN\", \"RM\", \"PTRATIO\", \"LSTAT\", \"B\"], \"ss_res\": 11583.587544393547, \"R2\": 0.7288250904754123, \"R2_adj\": 0.7239045780042, \"MS_res\": 23.354007145954732, \"C_p\": -30.0, \"PRESS\": 12370.746205052017, \"AIC\": 3040.154562175143}, {\"index\": 9, \"k_count\": 10, \"p_count\": \"11\", \"formula\": [\"const\", \"CRIM\", \"NOX\", \"RAD\", \"CHAS\", \"DIS\", \"ZN\", \"RM\", \"PTRATIO\", \"LSTAT\", \"B\"], \"ss_res\": 11354.98323140588, \"R2\": 0.734176779117103, \"R2_adj\": 0.7288066130386607, \"MS_res\": 22.939360063446223, \"C_p\": -33.0, \"PRESS\": 12156.073413510241, \"AIC\": 3032.0687017003256}, {\"index\": 10, \"k_count\": 11, \"p_count\": \"12\", \"formula\": [\"const\", \"CRIM\", \"NOX\", \"RAD\", \"CHAS\", \"DIS\", \"ZN\", \"TAX\", \"RM\", \"PTRATIO\", \"LSTAT\", \"B\"], \"ss_res\": 11081.363952434613, \"R2\": 0.7405822802569575, \"R2_adj\": 0.7348057723274566, \"MS_res\": 22.43191083488788, \"C_p\": -36.0, \"PRESS\": 11897.702883857495, \"AIC\": 3021.726387825062}, {\"index\": 11, \"k_count\": 12, \"p_count\": \"13\", \"formula\": [\"const\", \"CRIM\", \"NOX\", \"RAD\", \"CHAS\", \"DIS\", \"ZN\", \"TAX\", \"RM\", \"PTRATIO\", \"LSTAT\", \"INDUS\", \"B\"], \"ss_res\": 11078.846412308365, \"R2\": 0.7406412165505145, \"R2_adj\": 0.7343282238499185, \"MS_res\": 22.472305095960174, \"C_p\": -39.0, \"PRESS\": 11927.413936096598, \"AIC\": 3023.6114182206766}]}}, {\"mode\": \"vega-lite\"});\n",
       "</script>"
      ],
      "text/plain": [
       "alt.RepeatChart(...)"
      ]
     },
     "execution_count": 17,
     "metadata": {},
     "output_type": "execute_result"
    }
   ],
   "source": [
    "view_stepwise(hybrid_summary)"
   ]
  }
 ],
 "metadata": {
  "colab": {
   "collapsed_sections": [
    "FcfNyQDIJLRf"
   ],
   "name": "rile_jupyter_boilerplate",
   "provenance": [],
   "toc_visible": true
  },
  "kernelspec": {
   "display_name": "Python 3",
   "language": "python",
   "name": "python3"
  },
  "language_info": {
   "codemirror_mode": {
    "name": "ipython",
    "version": 3
   },
   "file_extension": ".py",
   "mimetype": "text/x-python",
   "name": "python",
   "nbconvert_exporter": "python",
   "pygments_lexer": "ipython3",
   "version": "3.7.6"
  },
  "toc-autonumbering": true,
  "toc-showcode": true,
  "toc-showmarkdowntxt": true,
  "toc-showtags": false,
  "widgets": {
   "application/vnd.jupyter.widget-state+json": {
    "state": {},
    "version_major": 2,
    "version_minor": 0
   }
  }
 },
 "nbformat": 4,
 "nbformat_minor": 4
}
